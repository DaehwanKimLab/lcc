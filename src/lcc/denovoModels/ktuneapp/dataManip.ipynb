{
 "cells": [
  {
   "cell_type": "code",
   "execution_count": 1,
   "metadata": {},
   "outputs": [
    {
     "name": "stdout",
     "output_type": "stream",
     "text": [
      "cwd should be: c:\\Users\\austi\\source\\repos\\lcc \n",
      " cwd is: c:\\Users\\austi\\source\\repos\\lcc\n"
     ]
    }
   ],
   "source": [
    "import pandas as pd\n",
    "from fun import *\n",
    "import re\n",
    "os.chdir('../../../..')\n",
    "print(f'cwd should be: c:\\\\Users\\\\austi\\\\source\\\\repos\\\\lcc \\n cwd is: {os.getcwd()}')"
   ]
  },
  {
   "cell_type": "code",
   "execution_count": 2,
   "metadata": {},
   "outputs": [
    {
     "data": {
      "text/html": [
       "<div>\n",
       "<style scoped>\n",
       "    .dataframe tbody tr th:only-of-type {\n",
       "        vertical-align: middle;\n",
       "    }\n",
       "\n",
       "    .dataframe tbody tr th {\n",
       "        vertical-align: top;\n",
       "    }\n",
       "\n",
       "    .dataframe thead th {\n",
       "        text-align: right;\n",
       "    }\n",
       "</style>\n",
       "<table border=\"1\" class=\"dataframe\">\n",
       "  <thead>\n",
       "    <tr style=\"text-align: right;\">\n",
       "      <th></th>\n",
       "      <th>SimStep</th>\n",
       "      <th>molecule</th>\n",
       "      <th>concentration</th>\n",
       "    </tr>\n",
       "  </thead>\n",
       "  <tbody>\n",
       "    <tr>\n",
       "      <th>0</th>\n",
       "      <td>0.00</td>\n",
       "      <td>ADP</td>\n",
       "      <td>1.023764e+20</td>\n",
       "    </tr>\n",
       "    <tr>\n",
       "      <th>1</th>\n",
       "      <td>0.01</td>\n",
       "      <td>ADP</td>\n",
       "      <td>1.016412e+20</td>\n",
       "    </tr>\n",
       "    <tr>\n",
       "      <th>2</th>\n",
       "      <td>0.02</td>\n",
       "      <td>ADP</td>\n",
       "      <td>1.012638e+20</td>\n",
       "    </tr>\n",
       "    <tr>\n",
       "      <th>3</th>\n",
       "      <td>0.03</td>\n",
       "      <td>ADP</td>\n",
       "      <td>1.010701e+20</td>\n",
       "    </tr>\n",
       "    <tr>\n",
       "      <th>4</th>\n",
       "      <td>0.04</td>\n",
       "      <td>ADP</td>\n",
       "      <td>1.009706e+20</td>\n",
       "    </tr>\n",
       "  </tbody>\n",
       "</table>\n",
       "</div>"
      ],
      "text/plain": [
       "   SimStep molecule  concentration\n",
       "0     0.00      ADP   1.023764e+20\n",
       "1     0.01      ADP   1.016412e+20\n",
       "2     0.02      ADP   1.012638e+20\n",
       "3     0.03      ADP   1.010701e+20\n",
       "4     0.04      ADP   1.009706e+20"
      ]
     },
     "execution_count": 2,
     "metadata": {},
     "output_type": "execute_result"
    }
   ],
   "source": [
    "df = ppAll()\n",
    "df.head()"
   ]
  },
  {
   "cell_type": "code",
   "execution_count": 3,
   "metadata": {},
   "outputs": [],
   "source": [
    "# Read the lines from LPP file\n",
    "lpp = open('src\\lcc\\denovoModels\\glucose_metabolism_lowRes_abridged.lpp', 'r')\n",
    "lines = lpp.readlines()\n",
    "lpp.close()"
   ]
  },
  {
   "cell_type": "code",
   "execution_count": 4,
   "metadata": {},
   "outputs": [],
   "source": [
    "proteinName = ['proteinNames']\n",
    "proteinKcats = ['kcat']\n",
    "proteinKMs  = ['KMs']\n",
    "\n",
    "for l in lines:\n",
    "    if re.match('protein ', l):\n",
    "        proteinName.append(l[8:re.search('\\(', l).span()[0]])\n",
    "        proteinKcats.append(l.split(',')[1].split('=')[1].strip())\n",
    "        #proteinKMs.append(l.split(',')[2].split('=')[1].strip()))\n",
    "        \n"
   ]
  },
  {
   "cell_type": "code",
   "execution_count": 41,
   "metadata": {},
   "outputs": [
    {
     "name": "stdout",
     "output_type": "stream",
     "text": [
      "9.51e28\n",
      "None\n"
     ]
    }
   ],
   "source": [
    "spll = lines[1].split(',') \n",
    "print(spll[1].split('=')[1].strip())\n",
    "print(re.match('kcat *=', lines[1]))"
   ]
  },
  {
   "cell_type": "code",
   "execution_count": 24,
   "metadata": {},
   "outputs": [
    {
     "name": "stdout",
     "output_type": "stream",
     "text": [
      "<re.Match object; span=(0, 8), match='protein '>\n",
      "21\n"
     ]
    }
   ],
   "source": [
    "print(re.match('kcat *=', lines[1]))\n",
    "print(re.search('\\(', lines[1]).span()[0])"
   ]
  },
  {
   "cell_type": "code",
   "execution_count": 6,
   "metadata": {},
   "outputs": [
    {
     "data": {
      "text/plain": [
       "(['proteinNames',\n",
       "  'NetGlycolysis',\n",
       "  'pyruvateDehydrogenase',\n",
       "  'NetCAC',\n",
       "  'FADRegen',\n",
       "  'NADRegen',\n",
       "  'ATPRegen'],\n",
       " ['kcat', '9.51e28', '6.8e19', '5.19e19', '9.0e5', '2e7', '1.5e6'],\n",
       " ['KMs'])"
      ]
     },
     "execution_count": 6,
     "metadata": {},
     "output_type": "execute_result"
    }
   ],
   "source": [
    "proteinName, proteinKcats, proteinKMs"
   ]
  },
  {
   "cell_type": "code",
   "execution_count": 28,
   "metadata": {},
   "outputs": [
    {
     "name": "stdout",
     "output_type": "stream",
     "text": [
      "// Glucose Metabolism:\n",
      "protein NetGlycolysis(glucose + 2 P + 2 ADP + 2 NAD --> 2 pyruvate + 2 ATP + 2 NADH + 2 H + 2 H2O, kcat = 9.51e28, KM = 1e29uM);\n",
      "protein pyruvateDehydrogenase(pyruvate + NAD + CoA --> acetylCoA + CO2 + NADH + H, kcat = 6.8e19, KM = 1e20uM);\n",
      "protein NetCAC(acetylCoA + 3 NAD + FAD + ADP + P + 2 H2O --> 2 CO2 + 3 NADH + FADH2 + ATP + 2 H + CoA, kcat = 5.19e19, KM = 1e20uM);\n",
      "pathway NetOxidativePhosphorylation\n",
      "{\n",
      "    protein ElectronTransportChain(2 NADH + O2 + 2 H --> 2 H2O + 2 NAD, kcat = 8.18e37, KM = 1e38uM);\n",
      "    protein ATPsynthase(ADP + P + H --> ATP + H2O, kcat = 4.72e7, KM = 1e6uM);\n",
      "}\n",
      "\n",
      "// Initial Conc.\n",
      "NetGlycolysis = 0.32uM, pyruvateDehydrogenase = 0.48uM, NetCAC = 0.8uM, ElectronTransportChain = 1uM, ATPsynthase = 1uM; \n",
      "glucose[:] = 500uM, O2[:] = 6e3uM, P = 5000uM, ADP = 170uM, ATP = 5.5e3uM, NAD = 2.6e3uM, NADH = 83uM, CoA = 2.0e3uM, FAD = 2e3uM;\n",
      "H2O[:] = 8e6uM, CO2[:] = 0uM;\n",
      "\n",
      "// Create constant input/output: \n",
      "protein FADRegen(FADH2 --> FAD, kcat = 9.0e5, KM = 1);\n",
      "protein NADRegen(NADH --> NAD, kcat = 2e7, KM = 1);\n",
      "protein ATPRegen(ATP --> ADP + P, kcat = 1.5e6, KM = 1);\n",
      "FADRegen = 1uM, ATPRegen = 1uM, NADRegen = 1uM;\n"
     ]
    }
   ],
   "source": [
    "for l in lines:\n",
    "    print(l, end = '')"
   ]
  },
  {
   "cell_type": "code",
   "execution_count": 17,
   "metadata": {},
   "outputs": [],
   "source": [
    "\n",
    "def extractKVals(lstOfStrings:list):\n",
    "    outputDict = {'':{}}\n",
    "    for l in lstOfStrings:\n",
    "        if re.match('protein ', l):\n",
    "            outputDict[l[8:re.search('\\(', l).span()[0]]] = {'kcat':l.split(',')[1].split('=')[1].strip()}\n",
    "    del outputDict[''] \n",
    "    return outputDict"
   ]
  },
  {
   "cell_type": "code",
   "execution_count": 20,
   "metadata": {},
   "outputs": [],
   "source": [
    "data = extractKVals(lines)"
   ]
  },
  {
   "cell_type": "code",
   "execution_count": 22,
   "metadata": {},
   "outputs": [
    {
     "name": "stdout",
     "output_type": "stream",
     "text": [
      "NetGlycolysis\n",
      "9.51e28\n",
      "pyruvateDehydrogenase\n",
      "6.8e19\n",
      "NetCAC\n",
      "5.19e19\n",
      "FADRegen\n",
      "9.0e5\n",
      "NADRegen\n",
      "2e7\n",
      "ATPRegen\n",
      "1.5e6\n"
     ]
    }
   ],
   "source": [
    "for protein in data.keys():\n",
    "    print(protein) \n",
    "    print(float(data[protein]['kcat']))"
   ]
  }
 ],
 "metadata": {
  "interpreter": {
   "hash": "d46bb6a1d0e60fd95c8b450a1be9fd3d29a8bdd7f09a3a7e970ffea16d669fbd"
  },
  "kernelspec": {
   "display_name": "Python 3.9.7 ('base')",
   "language": "python",
   "name": "python3"
  },
  "language_info": {
   "codemirror_mode": {
    "name": "ipython",
    "version": 3
   },
   "file_extension": ".py",
   "mimetype": "text/x-python",
   "name": "python",
   "nbconvert_exporter": "python",
   "pygments_lexer": "ipython3",
   "version": "3.9.7"
  },
  "orig_nbformat": 4
 },
 "nbformat": 4,
 "nbformat_minor": 2
}
