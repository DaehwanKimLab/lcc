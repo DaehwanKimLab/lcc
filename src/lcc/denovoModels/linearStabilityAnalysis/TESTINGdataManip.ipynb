{
 "cells": [
  {
   "cell_type": "markdown",
   "metadata": {},
   "source": [
    "# This file is to make sure my python code does what I think it does before implementing in the app.py\n",
    "(Ex: testing regex for parsing, Df formatting, etc.)"
   ]
  },
  {
   "cell_type": "code",
   "execution_count": 1,
   "metadata": {},
   "outputs": [
    {
     "name": "stdout",
     "output_type": "stream",
     "text": [
      "cwd should be: c:\\Users\\austi\\source\\repos\\lcc \n",
      " cwd is: c:\\Users\\austi\\source\\repos\\lcc\n"
     ]
    }
   ],
   "source": [
    "import pandas as pd\n",
    "from fun import *\n",
    "import re\n",
    "os.chdir('../../../..')\n",
    "print(f'cwd should be: c:\\\\Users\\\\austi\\\\source\\\\repos\\\\lcc \\n cwd is: {os.getcwd()}')"
   ]
  },
  {
   "cell_type": "code",
   "execution_count": 2,
   "metadata": {},
   "outputs": [
    {
     "data": {
      "text/html": [
       "<div>\n",
       "<style scoped>\n",
       "    .dataframe tbody tr th:only-of-type {\n",
       "        vertical-align: middle;\n",
       "    }\n",
       "\n",
       "    .dataframe tbody tr th {\n",
       "        vertical-align: top;\n",
       "    }\n",
       "\n",
       "    .dataframe thead th {\n",
       "        text-align: right;\n",
       "    }\n",
       "</style>\n",
       "<table border=\"1\" class=\"dataframe\">\n",
       "  <thead>\n",
       "    <tr style=\"text-align: right;\">\n",
       "      <th></th>\n",
       "      <th>SimStep</th>\n",
       "      <th>molecule</th>\n",
       "      <th>concentration</th>\n",
       "    </tr>\n",
       "  </thead>\n",
       "  <tbody>\n",
       "    <tr>\n",
       "      <th>0</th>\n",
       "      <td>0.00</td>\n",
       "      <td>ADP</td>\n",
       "      <td>1.023764e+21</td>\n",
       "    </tr>\n",
       "    <tr>\n",
       "      <th>1</th>\n",
       "      <td>0.01</td>\n",
       "      <td>ADP</td>\n",
       "      <td>1.026149e+21</td>\n",
       "    </tr>\n",
       "    <tr>\n",
       "      <th>2</th>\n",
       "      <td>0.02</td>\n",
       "      <td>ADP</td>\n",
       "      <td>1.028534e+21</td>\n",
       "    </tr>\n",
       "    <tr>\n",
       "      <th>3</th>\n",
       "      <td>0.03</td>\n",
       "      <td>ADP</td>\n",
       "      <td>1.030918e+21</td>\n",
       "    </tr>\n",
       "    <tr>\n",
       "      <th>4</th>\n",
       "      <td>0.04</td>\n",
       "      <td>ADP</td>\n",
       "      <td>1.033303e+21</td>\n",
       "    </tr>\n",
       "  </tbody>\n",
       "</table>\n",
       "</div>"
      ],
      "text/plain": [
       "   SimStep molecule  concentration\n",
       "0     0.00      ADP   1.023764e+21\n",
       "1     0.01      ADP   1.026149e+21\n",
       "2     0.02      ADP   1.028534e+21\n",
       "3     0.03      ADP   1.030918e+21\n",
       "4     0.04      ADP   1.033303e+21"
      ]
     },
     "execution_count": 2,
     "metadata": {},
     "output_type": "execute_result"
    }
   ],
   "source": [
    "df = ppAll()\n",
    "df.head()"
   ]
  },
  {
   "cell_type": "code",
   "execution_count": 3,
   "metadata": {},
   "outputs": [],
   "source": [
    "# Read the lines from LPP file\n",
    "lpp = open('src\\lcc\\denovoModels\\glycolysis_med\\glycolysis_med_MM_reg.lpp', 'r')\n",
    "lines = lpp.readlines()\n",
    "lpp.close()"
   ]
  },
  {
   "cell_type": "code",
   "execution_count": 4,
   "metadata": {},
   "outputs": [
    {
     "data": {
      "text/plain": [
       "['// Medium Resolution Glucose to pyruvate no regulation\\n',\n",
       " 'pathway Glycolysis_medium_MM_noreg\\n',\n",
       " '{\\n',\n",
       " '    protein hexokinase(glucose + ATP --> fructose6P + ADP, kcat = 4e3, KM = 5uM); \\n',\n",
       " '    protein phosphofructokinaseActive(fructose6P + ATP --> F16BP + ADP, kcat = 1.7e4, KM = 0.21uM);\\n',\n",
       " '    //protein phosphofructokinaseInactive(fructose6P + ATP --> F16BP + ADP, kcat = 1.7e4, KM = 3.1e7uM);\\n',\n",
       " '    protein SUMMARYmakePEPase(F16BP --> PEP, k = 1e6);\\n',\n",
       " '    protein pyruvateKinase(PEP + ADP --> ATP, kcat = 170, KM = 700uM);\\n',\n",
       " '}\\n',\n",
       " '\\n',\n",
       " '// PFK regulation\\n',\n",
       " 'reaction feedForwardActivation_PFKActive(ADP --> phosphofructokinaseActive, Ka = 74uM, n = 1);\\n',\n",
       " '//reaction feedBackInhibition_PFKActive(PEP --| phosphofructokinaseActive, Ki = 2e4uM, n = 1);\\n',\n",
       " '//reaction feedForwardActivation_PFKInactive(ADP --> phosphofructokinaseInactive, Ka = 9e3uM, n = 1);\\n',\n",
       " '//reaction feedBackInhibition_PFKInactive(PEP --| phosphofructokinaseInactive, Ki = 2.6e2uM, n = 1);\\n',\n",
       " '\\n',\n",
       " '// PK Regulation\\n',\n",
       " '//reaction feedForwardActivation_PK(F16BP --> pyruvateKinase, Ka = 0.1uM, n = 1); // guessing on the Ka here\\n',\n",
       " 'reaction feedBackInhibition_PK(ATP --| pyruvateKinase, Ki = 5mM, n = 1); // just guess the ki here\\n',\n",
       " '\\n',\n",
       " '// Init concentrations: metabolites\\n',\n",
       " 'glucose = 500uM;\\n',\n",
       " '//glucose[:] = 500uM;\\n',\n",
       " '//glucose[:] = 500uM, ATP = 5000uM, ADP = 1700uM;\\n',\n",
       " '//glucose[:] = 500uM, ATP[:] = 5000uM, ADP[:] = 1700uM;\\n',\n",
       " '\\n',\n",
       " '// Disturb system at certain points\\n',\n",
       " '//PEP[10:11] = 1000uM;\\n',\n",
       " 'ADP[0] = 1700uM, ADP[20:25] = 3400uM, ADP[25:50] = 1700uM;\\n',\n",
       " 'ATP[0] = 5000uM, ATP[20:25] = 3300uM, ATP[25:50] = 5000uM;\\n',\n",
       " '\\n',\n",
       " '// Init concentrations: enzymes -- no particular reason these values were chosen.\\n',\n",
       " 'phosphofructokinaseActive = 4000;\\n',\n",
       " '//phosphofructokinaseInactive = 4000;\\n',\n",
       " 'hexokinase = 0.01uM, phosphoglucoseIsomerase = 1uM, SUMMARYmakePEPase = 1uM, pyruvateKinase = 4000;\\n',\n",
       " '// Make the simulation longer\\n',\n",
       " 'SimSteps = 5000, SimRes = 100;\\n',\n",
       " '\\n',\n",
       " '\\n',\n",
       " '/*\\n',\n",
       " 'protein phosphofructokinase; // make it Kd instead of Km by annulling kcat\\n',\n",
       " '{\\n',\n",
       " '    reaction(ADP --> phosphofructokinaseActive, kcat = 5e4, KM = 1uM);\\n',\n",
       " '    reaction(PEP --> phosphofructokinaseInactive, kcat = 5e4, KM = 1uM);\\n',\n",
       " '}\\n',\n",
       " '*/\\n',\n",
       " '\\n',\n",
       " '/*\\n',\n",
       " 'reaction PFKBaseToInactive(phosphofructokinase + PEP --> phosphofructokinaseInactive, kcat = 5e4, KM = 1uM);\\n',\n",
       " 'reaction PFKActiveToBase(phosphofructokinaseActive --> phosphofructokinase + ADP, kcat = 5e4, KM = 1uM); // make it Kd instead of Km by annulling kcat\\n',\n",
       " 'reaction PFKInactiveToBase(phosphofructokinaseInactive --> phosphofructokinase + PEP, kcat = 5e4, KM = 1uM);\\n',\n",
       " '*/\\n',\n",
       " '\\n',\n",
       " '/*\\n',\n",
       " 'protein balancePFK\\n',\n",
       " '{\\n',\n",
       " '    reaction PFKBaseToActive(phosphofructokinase + ADP --> phosphofructokinaseActive, kcat = 1, KM = 74uM);\\n',\n",
       " '    reaction PFKBaseToInactive(phosphofructokinase + PEP --> phosphofructokinaseInactive, kcat = 1, KM = 2e4uM);\\n',\n",
       " '    reaction PFKActiveToBase(phosphofructokinaseActive --> phosphofructokinase + ADP, kcat = 1, KM = 9e3uM); // make it Kd instead of Km by annulling kcat\\n',\n",
       " '    reaction PFKInactiveToBase(phosphofructokinaseInactive --> phosphofructokinase + PEP, kcat = 1, KM = 2.6e2uM);\\n',\n",
       " '}\\n',\n",
       " '*/']"
      ]
     },
     "execution_count": 4,
     "metadata": {},
     "output_type": "execute_result"
    }
   ],
   "source": [
    "lines"
   ]
  },
  {
   "cell_type": "code",
   "execution_count": 5,
   "metadata": {},
   "outputs": [],
   "source": [
    "proteinName = ['proteinNames']\n",
    "proteinKcats = ['kcat']\n",
    "proteinKMs  = ['KMs']\n",
    "\n",
    "for l in lines:\n",
    "    if re.match('   protein ', l):\n",
    "        proteinName.append(l[8:re.search('\\(', l).span()[0]])\n",
    "        proteinKcats.append(l.split(',')[1].split('=')[1].strip())\n",
    "        #proteinKMs.append(l.split(',')[2].split('=')[1].strip()))\n",
    "        \n"
   ]
  },
  {
   "cell_type": "code",
   "execution_count": 21,
   "metadata": {},
   "outputs": [
    {
     "name": "stdout",
     "output_type": "stream",
     "text": [
      "4e3\n",
      "None\n"
     ]
    }
   ],
   "source": [
    "spll = lines[3].split(',') \n",
    "print(spll[1].split('=')[1].strip())\n",
    "print(re.match('kcat *=', lines[3]))"
   ]
  },
  {
   "cell_type": "code",
   "execution_count": 7,
   "metadata": {},
   "outputs": [
    {
     "data": {
      "text/plain": [
       "['    protein hexokinase(glucose + ATP --> fructose6P + ADP',\n",
       " ' kcat = 4e3',\n",
       " ' KM = 5uM); \\n']"
      ]
     },
     "execution_count": 7,
     "metadata": {},
     "output_type": "execute_result"
    }
   ],
   "source": [
    "spll"
   ]
  },
  {
   "cell_type": "code",
   "execution_count": 8,
   "metadata": {},
   "outputs": [
    {
     "data": {
      "text/plain": [
       "'    protein hexokinase(glucose + ATP --> fructose6P + ADP, kcat = 4e3, KM = 5uM); \\n'"
      ]
     },
     "execution_count": 8,
     "metadata": {},
     "output_type": "execute_result"
    }
   ],
   "source": [
    "lines[3]"
   ]
  },
  {
   "cell_type": "code",
   "execution_count": 19,
   "metadata": {},
   "outputs": [
    {
     "name": "stdout",
     "output_type": "stream",
     "text": [
      "None\n",
      "22\n"
     ]
    }
   ],
   "source": [
    "print(re.match(' *kcat *= *', lines[3]))\n",
    "print(re.search('\\(', lines[3]).span()[0])"
   ]
  },
  {
   "cell_type": "code",
   "execution_count": 16,
   "metadata": {},
   "outputs": [
    {
     "data": {
      "text/plain": [
       "(['proteinNames'], ['kcat'], ['KMs'])"
      ]
     },
     "execution_count": 16,
     "metadata": {},
     "output_type": "execute_result"
    }
   ],
   "source": [
    "proteinName, proteinKcats, proteinKMs"
   ]
  },
  {
   "cell_type": "code",
   "execution_count": 11,
   "metadata": {},
   "outputs": [
    {
     "name": "stdout",
     "output_type": "stream",
     "text": [
      "// Medium Resolution Glucose to pyruvate no regulation\n",
      "pathway Glycolysis_medium_MM_noreg\n",
      "{\n",
      "    protein hexokinase(glucose + ATP --> fructose6P + ADP, kcat = 4e3, KM = 5uM); \n",
      "    protein phosphofructokinaseActive(fructose6P + ATP --> F16BP + ADP, kcat = 1.7e4, KM = 0.21uM);\n",
      "    //protein phosphofructokinaseInactive(fructose6P + ATP --> F16BP + ADP, kcat = 1.7e4, KM = 3.1e7uM);\n",
      "    protein SUMMARYmakePEPase(F16BP --> PEP, k = 1e6);\n",
      "    protein pyruvateKinase(PEP + ADP --> ATP, kcat = 170, KM = 700uM);\n",
      "}\n",
      "\n",
      "// PFK regulation\n",
      "reaction feedForwardActivation_PFKActive(ADP --> phosphofructokinaseActive, Ka = 74uM, n = 1);\n",
      "//reaction feedBackInhibition_PFKActive(PEP --| phosphofructokinaseActive, Ki = 2e4uM, n = 1);\n",
      "//reaction feedForwardActivation_PFKInactive(ADP --> phosphofructokinaseInactive, Ka = 9e3uM, n = 1);\n",
      "//reaction feedBackInhibition_PFKInactive(PEP --| phosphofructokinaseInactive, Ki = 2.6e2uM, n = 1);\n",
      "\n",
      "// PK Regulation\n",
      "//reaction feedForwardActivation_PK(F16BP --> pyruvateKinase, Ka = 0.1uM, n = 1); // guessing on the Ka here\n",
      "reaction feedBackInhibition_PK(ATP --| pyruvateKinase, Ki = 5mM, n = 1); // just guess the ki here\n",
      "\n",
      "// Init concentrations: metabolites\n",
      "glucose = 500uM;\n",
      "//glucose[:] = 500uM;\n",
      "//glucose[:] = 500uM, ATP = 5000uM, ADP = 1700uM;\n",
      "//glucose[:] = 500uM, ATP[:] = 5000uM, ADP[:] = 1700uM;\n",
      "\n",
      "// Disturb system at certain points\n",
      "//PEP[10:11] = 1000uM;\n",
      "ADP[0] = 1700uM, ADP[20:25] = 3400uM, ADP[25:50] = 1700uM;\n",
      "ATP[0] = 5000uM, ATP[20:25] = 3300uM, ATP[25:50] = 5000uM;\n",
      "\n",
      "// Init concentrations: enzymes -- no particular reason these values were chosen.\n",
      "phosphofructokinaseActive = 4000;\n",
      "//phosphofructokinaseInactive = 4000;\n",
      "hexokinase = 0.01uM, phosphoglucoseIsomerase = 1uM, SUMMARYmakePEPase = 1uM, pyruvateKinase = 4000;\n",
      "// Make the simulation longer\n",
      "SimSteps = 5000, SimRes = 100;\n",
      "\n",
      "\n",
      "/*\n",
      "protein phosphofructokinase; // make it Kd instead of Km by annulling kcat\n",
      "{\n",
      "    reaction(ADP --> phosphofructokinaseActive, kcat = 5e4, KM = 1uM);\n",
      "    reaction(PEP --> phosphofructokinaseInactive, kcat = 5e4, KM = 1uM);\n",
      "}\n",
      "*/\n",
      "\n",
      "/*\n",
      "reaction PFKBaseToInactive(phosphofructokinase + PEP --> phosphofructokinaseInactive, kcat = 5e4, KM = 1uM);\n",
      "reaction PFKActiveToBase(phosphofructokinaseActive --> phosphofructokinase + ADP, kcat = 5e4, KM = 1uM); // make it Kd instead of Km by annulling kcat\n",
      "reaction PFKInactiveToBase(phosphofructokinaseInactive --> phosphofructokinase + PEP, kcat = 5e4, KM = 1uM);\n",
      "*/\n",
      "\n",
      "/*\n",
      "protein balancePFK\n",
      "{\n",
      "    reaction PFKBaseToActive(phosphofructokinase + ADP --> phosphofructokinaseActive, kcat = 1, KM = 74uM);\n",
      "    reaction PFKBaseToInactive(phosphofructokinase + PEP --> phosphofructokinaseInactive, kcat = 1, KM = 2e4uM);\n",
      "    reaction PFKActiveToBase(phosphofructokinaseActive --> phosphofructokinase + ADP, kcat = 1, KM = 9e3uM); // make it Kd instead of Km by annulling kcat\n",
      "    reaction PFKInactiveToBase(phosphofructokinaseInactive --> phosphofructokinase + PEP, kcat = 1, KM = 2.6e2uM);\n",
      "}\n",
      "*/"
     ]
    }
   ],
   "source": [
    "for l in lines:\n",
    "    print(l, end = '')"
   ]
  },
  {
   "cell_type": "code",
   "execution_count": 12,
   "metadata": {},
   "outputs": [],
   "source": [
    "\n",
    "def extractKVals(lstOfStrings:list):\n",
    "    outputDict = {'':{}}\n",
    "    for l in lstOfStrings:\n",
    "        if re.match('   protein ', l):\n",
    "            outputDict[l[12:re.search('\\(', l).span()[0]]] = {'kcat':l.split(',')[1].split('=')[1].strip()}\n",
    "    #del outputDict[''] \n",
    "    return outputDict"
   ]
  },
  {
   "cell_type": "code",
   "execution_count": 13,
   "metadata": {},
   "outputs": [],
   "source": [
    "data = extractKVals(lines)"
   ]
  },
  {
   "cell_type": "code",
   "execution_count": 14,
   "metadata": {},
   "outputs": [
    {
     "data": {
      "text/plain": [
       "{'': {}}"
      ]
     },
     "execution_count": 14,
     "metadata": {},
     "output_type": "execute_result"
    }
   ],
   "source": [
    "data"
   ]
  },
  {
   "cell_type": "code",
   "execution_count": 15,
   "metadata": {},
   "outputs": [
    {
     "name": "stdout",
     "output_type": "stream",
     "text": [
      "\n"
     ]
    },
    {
     "ename": "KeyError",
     "evalue": "'kcat'",
     "output_type": "error",
     "traceback": [
      "\u001b[1;31m---------------------------------------------------------------------------\u001b[0m",
      "\u001b[1;31mKeyError\u001b[0m                                  Traceback (most recent call last)",
      "\u001b[1;32m~\\AppData\\Local\\Temp/ipykernel_7484/1244858115.py\u001b[0m in \u001b[0;36m<module>\u001b[1;34m\u001b[0m\n\u001b[0;32m      1\u001b[0m \u001b[1;32mfor\u001b[0m \u001b[0mprotein\u001b[0m \u001b[1;32min\u001b[0m \u001b[0mdata\u001b[0m\u001b[1;33m.\u001b[0m\u001b[0mkeys\u001b[0m\u001b[1;33m(\u001b[0m\u001b[1;33m)\u001b[0m\u001b[1;33m:\u001b[0m\u001b[1;33m\u001b[0m\u001b[1;33m\u001b[0m\u001b[0m\n\u001b[0;32m      2\u001b[0m     \u001b[0mprint\u001b[0m\u001b[1;33m(\u001b[0m\u001b[0mprotein\u001b[0m\u001b[1;33m)\u001b[0m\u001b[1;33m\u001b[0m\u001b[1;33m\u001b[0m\u001b[0m\n\u001b[1;32m----> 3\u001b[1;33m     \u001b[0mprint\u001b[0m\u001b[1;33m(\u001b[0m\u001b[0mfloat\u001b[0m\u001b[1;33m(\u001b[0m\u001b[0mdata\u001b[0m\u001b[1;33m[\u001b[0m\u001b[0mprotein\u001b[0m\u001b[1;33m]\u001b[0m\u001b[1;33m[\u001b[0m\u001b[1;34m'kcat'\u001b[0m\u001b[1;33m]\u001b[0m\u001b[1;33m)\u001b[0m\u001b[1;33m)\u001b[0m\u001b[1;33m\u001b[0m\u001b[1;33m\u001b[0m\u001b[0m\n\u001b[0m",
      "\u001b[1;31mKeyError\u001b[0m: 'kcat'"
     ]
    }
   ],
   "source": [
    "for protein in data.keys():\n",
    "    print(protein) \n",
    "    print(float(data[protein]['kcat']))"
   ]
  }
 ],
 "metadata": {
  "kernelspec": {
   "display_name": "Python 3.9.7 ('testingPackages')",
   "language": "python",
   "name": "python3"
  },
  "language_info": {
   "codemirror_mode": {
    "name": "ipython",
    "version": 3
   },
   "file_extension": ".py",
   "mimetype": "text/x-python",
   "name": "python",
   "nbconvert_exporter": "python",
   "pygments_lexer": "ipython3",
   "version": "3.9.7"
  },
  "orig_nbformat": 4,
  "vscode": {
   "interpreter": {
    "hash": "53a13f3ec9e14a621953636e941a816bb9cef192f822521375f56526d00c1a5e"
   }
  }
 },
 "nbformat": 4,
 "nbformat_minor": 2
}
