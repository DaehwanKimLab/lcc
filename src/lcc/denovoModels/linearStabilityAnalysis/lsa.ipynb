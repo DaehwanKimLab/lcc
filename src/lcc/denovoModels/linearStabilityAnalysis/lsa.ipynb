{
 "cells": [
  {
   "cell_type": "markdown",
   "metadata": {},
   "source": [
    "# Default equation\n",
    "def Eqn_Enz_MichaelisMenten_Activation_Allosteric(Conc_Enzyme, Conc_Substrate, Conc_Activator, kcat, KM, Ka, n):\n",
    "    return (kcat * Conc_Enzyme * (1 + (Conc_Activator / Ka) ** n)) * (Conc_Substrate / (KM + Conc_Substrate))\n"
   ]
  },
  {
   "cell_type": "code",
   "execution_count": 46,
   "metadata": {},
   "outputs": [],
   "source": [
    "import numpy as np\n",
    "import matplotlib.pyplot as plt\n",
    "from scipy.constants import Avogadro\n",
    "from scipy import sqrt\n",
    "import sympy as sm\n",
    "# Micromolar conversion \n",
    "def uMtoCount(inVal:float):\n",
    "    return inVal*10**-6*Avogadro\n",
    "def counttouM(inVal:float):\n",
    "    return inVal / Avogadro / 10**-6"
   ]
  },
  {
   "cell_type": "code",
   "execution_count": null,
   "metadata": {},
   "outputs": [],
   "source": []
  },
  {
   "cell_type": "code",
   "execution_count": 13,
   "metadata": {},
   "outputs": [
    {
     "name": "stdout",
     "output_type": "stream",
     "text": [
      "[(0, 0), (1, 1), (2, 0)]\n",
      "Jacobian Matrix([[-c - 2*r + 2, -r], [c, r - 1]])\n",
      "---------------------\n",
      "The eigenvalues for the fixed point (0, 0) are dict_keys([2, -1]):\n",
      "-------------------------------------------\n",
      "The eigenvalues for the fixed point (1, 1) are dict_keys([-1/2 - sqrt(3)*I/2, -1/2 + sqrt(3)*I/2]):\n",
      "-------------------------------------------\n",
      "The eigenvalues for the fixed point (2, 0) are dict_keys([1, -2]):\n",
      "-------------------------------------------\n"
     ]
    }
   ],
   "source": [
    "# Where I got this code from:\n",
    "# http://systems-sciences.uni-graz.at/etextbook/sw2/phpl_python.html\n",
    "\n",
    "# define the system in this way (asuming a predator-prey-system with no negative values)\n",
    "# to avoid interference x = r (for resource) and y = c (for consumer) \n",
    "r, c = sm.symbols('r, c', negative=False)\n",
    "R = 2*r - r**2 - r*c\n",
    "C = - c + r*c\n",
    "\n",
    "# use sympy's way of setting equations to zero\n",
    "REqual = sm.Eq(R, 0)\n",
    "CEqual = sm.Eq(C, 0)\n",
    "\n",
    "# compute fixed points\n",
    "equilibria = sm.solve( (REqual, CEqual), r, c )\n",
    "print(equilibria)\n",
    "\n",
    "# needed to calculate (complex) squareroots of negative numbers\n",
    "def eigenvalues(x,y):\n",
    "    # 2*x - x**2 - x*y\n",
    "    a11 = 2 - 2*x - y                # differentiated with respect to x\n",
    "    a12 = - x                        # differentiated with respect to y\n",
    "    # - y + x*y\n",
    "    a21 = y                          # differentiated with respect to x\n",
    "    a22 = - 1 + x                    # differentiated with respect to y\n",
    "\n",
    "    tr = a11 + a22\n",
    "    det = a11*a22 - a12*a21\n",
    "    lambda1 = (tr - sqrt(tr**2 - 4*det))/2\n",
    "    lambda2 = (tr + sqrt(tr**2 - 4*det))/2\n",
    "    print('Check the fixed point  %s, %s' % (x,y)) \n",
    "    print('The real part of the first eigenvalue is %s' %lambda1.real)\n",
    "    print('The real part of the second eigenvalue is %s' % lambda2.real)    \n",
    "    \n",
    "    if (lambda1.real < 0 and lambda2.real < 0):\n",
    "        print('The fixed point in %s, %s is a sink. It is stable' % (x,y))\n",
    "    if (lambda1.real > 0 and lambda2.real > 0):\n",
    "        print('The fixed point in %s, %s is a source. It is unstable' % (x,y))\n",
    "    if (lambda1.real > 0 and lambda2.real < 0):\n",
    "        print('The fixed point in %s, %s is a saddle. It is unstable' % (x,y))\n",
    "    if (lambda1.real < 0 and lambda2.real > 0):\n",
    "        print('The fixed point in %s, %s is unstable' % (x,y))\n",
    "    print('----------------------------')\n",
    "    return lambda1 , lambda2\n",
    "\n",
    "fp = []\n",
    "\n",
    "# iterate through list of fixed points\n",
    "for x,y in fp:\n",
    "    eigenvalues(x,y)  \n",
    "\n",
    "\n",
    "# here again, in order to avoid interference x = r (for resource) and y = c (for consumer) (see above) \n",
    "\n",
    "# put equations into matrix-form and compute Jacobian-matrix  \n",
    "eqMat = sm.Matrix([ R, C ])\n",
    "Mat = sm.Matrix([ r, c ])\n",
    "jacMat = eqMat.jacobian(Mat)\n",
    "print('Jacobian %s' % jacMat)\n",
    "print('---------------------')\n",
    "\n",
    "# iterate through list of equilibria\n",
    "for item in equilibria:\n",
    "    eqmat = jacMat.subs([ (r, item[0]), (c, item[1]) ])\n",
    "    print('The eigenvalues for the fixed point (%s, %s) are %s:' \n",
    "          %(item[0], item[1], eqmat.eigenvals().keys()))\n",
    "    print('-------------------------------------------')    "
   ]
  },
  {
   "cell_type": "code",
   "execution_count": 92,
   "metadata": {},
   "outputs": [],
   "source": [
    "# constants\n",
    "\n",
    "# kcats\n",
    "KCAT_HEXOKINASE = 4e3\n",
    "KCAT_PFK_ACTIVE = 1.7e4\n",
    "KCAT_PFK_INACTIVE = 1.7e4\n",
    "KCAT_PK = 170\n",
    "# ks\n",
    "K_SUMMARY_MAKE_PEPASE = 1e4\n",
    "\n",
    "# KMs\n",
    "KM_HEXOKINASE_GLUCOSE = uMtoCount(5)\n",
    "KM_PFK_ACTIVE = uMtoCount(0.21)\n",
    "KM_PFK_INACTIVE = uMtoCount(3.1e7)\n",
    "KM_PK_PEP = uMtoCount(700)\n",
    "\n",
    "# Concentrations\n",
    "## Metabolites\n",
    "CONC_GLUCOSE_T0 = uMtoCount(500)\n",
    "CONC_ADP_T0 = uMtoCount(1700)\n",
    "CONC_ATP_T0 = uMtoCount(5000)\n",
    "## Intermediates\n",
    "CONC_ATP = CONC_ATP_T0\n",
    "CONC_ADP = CONC_ADP_T0\n",
    "CONC_F6P = uMtoCount(15)\n",
    "CONC_F16P = 0\n",
    "CONC_PEP = 0\n",
    "CONC_PYRUVATE = 0\n",
    "## Enzymes\n",
    "CONC_PFK = 4000 / Avogadro\n",
    "CONC_PFK_ACTIVE = 0\n",
    "CONC_PFK_INACTIVE = 0\n",
    "CONC_HEXOKINASE = uMtoCount(0.01)\n",
    "CONC_SUMMARY_MAKE_PEPASE = uMtoCount(1)\n",
    "CONC_PYRUVATE_KINASE = uMtoCount(1)\n",
    "CONC_PHOSPHOGLUCOSEISOMERASE = uMtoCount(1)\n",
    "\n",
    "## Current exploratory values\n",
    "KI_ATP_PYRUVATEKINASE = uMtoCount(5000)"
   ]
  },
  {
   "cell_type": "code",
   "execution_count": 4,
   "metadata": {},
   "outputs": [],
   "source": [
    "# Attempting to base\n",
    "def hexokinase(Conc_Substrate = CONC_GLUCOSE_T0, Conc_Enzyme = CONC_HEXOKINASE, kcat = KCAT_HEXOKINASE, KM = KM_HEXOKINASE_GLUCOSE):\n",
    "    # Note: glucose is not decreasing...\n",
    "    return (kcat * Conc_Enzyme * (Conc_Substrate / (KM + Conc_Substrate)))\n",
    "\n",
    "def pfk_active(Conc_Substrate = CONC_F6P, Conc_Enzyme = CONC_PFK_ACTIVE, kcat = KCAT_PFK_ACTIVE, KM = KM_PFK_ACTIVE):\n",
    "    return (kcat * Conc_Enzyme * (Conc_Substrate / (KM + Conc_Substrate)))\n",
    "\n",
    "def pfk_inactive(Conc_Substrate = CONC_F6P, Conc_Enzyme = CONC_PFK_INACTIVE, kcat = KCAT_PFK_INACTIVE, KM = KM_PFK_INACTIVE):\n",
    "    return (kcat * Conc_Enzyme * (Conc_Substrate / (KM + Conc_Substrate)))\n",
    "\n",
    "def summaryMakePEPase(Conc_Substrate = CONC_F16P, k = K_SUMMARY_MAKE_PEPASE):\n",
    "    return(Conc_Substrate * k)\n",
    "\n",
    "def pyruvateKinase(Conc_Inhibitor = CONC_ATP, Ki = KI_ATP_PYRUVATEKINASE,Conc_Substrate = CONC_F6P, Conc_Enzyme = CONC_PFK_ACTIVE, kcat = KCAT_PFK_ACTIVE, KM = KM_PFK_ACTIVE):\n",
    "    return (kcat * (Conc_Enzyme / (1 + (Conc_Inhibitor / Ki)) * (Conc_Substrate / (KM + Conc_Substrate))))"
   ]
  },
  {
   "cell_type": "code",
   "execution_count": 5,
   "metadata": {},
   "outputs": [],
   "source": [
    "# Attempting to regulate\n",
    "def pfkActiveToInactiveRatio(ACTIVATING_COMPONENT, INHIBITING_COMPONENT, ACTIVATION_RATIO):\n",
    "    return(ACTIVATION_RATIO * ACTIVATING_COMPONENT / INHIBITING_COMPONENT)    "
   ]
  },
  {
   "cell_type": "code",
   "execution_count": 32,
   "metadata": {},
   "outputs": [
    {
     "data": {
      "text/plain": [
       "9.033211139999999e+18"
      ]
     },
     "execution_count": 32,
     "metadata": {},
     "output_type": "execute_result"
    }
   ],
   "source": [
    "CONC_F6P"
   ]
  },
  {
   "cell_type": "code",
   "execution_count": 35,
   "metadata": {},
   "outputs": [
    {
     "name": "stdout",
     "output_type": "stream",
     "text": [
      "[]\n",
      "Jacobian Matrix([[67061143.9842209*i/(a**2*(1 + i/a)**2), -67061143.9842209/(a*(1 + i/a)**2)], [-32.9032098855436/(i*(a/i + 1)**2), 32.9032098855436*a/(i**2*(a/i + 1)**2)]])\n",
      "---------------------\n"
     ]
    }
   ],
   "source": [
    "\n",
    "# (asuming no negative values)\n",
    "# to avoid interference kcat = k and conc = c\n",
    "a, i = sm.symbols('a, i', negative=False)\n",
    "# PFK active\n",
    "ACT = KCAT_PFK_ACTIVE * (4000 / (1 + i/a)) * CONC_F6P / (KM_PFK_ACTIVE + CONC_F6P) + KCAT_HEXOKINASE * CONC_HEXOKINASE / (CONC_GLUCOSE_T0 + KM_HEXOKINASE_GLUCOSE)\n",
    "# PFK inactive\n",
    "INACT = KCAT_PFK_INACTIVE * (4000 / (1 + a/i)) * CONC_F6P / (KM_PFK_INACTIVE + CONC_F6P) + KCAT_HEXOKINASE * CONC_HEXOKINASE / (CONC_GLUCOSE_T0 + KM_HEXOKINASE_GLUCOSE)\n",
    "\n",
    "# use sympy's way of setting equations to zero\n",
    "actEqual = sm.Eq(ACT, 0)\n",
    "inactEqual = sm.Eq(INACT, 0)\n",
    "\n",
    "# compute fixed points\n",
    "equilibria = sm.solve( (actEqual, inactEqual), a, i )\n",
    "print(equilibria)\n",
    "\n",
    "\n",
    "# here again, in order to avoid interference x = r (for resource) and y = c (for consumer) (see above) \n",
    "# put equations into matrix-form and compute Jacobian-matrix  \n",
    "eqMat = sm.Matrix([ ACT, INACT ])\n",
    "Mat = sm.Matrix([ a, i ])\n",
    "jacMat = eqMat.jacobian(Mat)\n",
    "print('Jacobian %s' % jacMat)\n",
    "print('---------------------')\n",
    "\n",
    "# iterate through list of equilibria\n",
    "for item in equilibria:\n",
    "    eqmat = jacMat.subs([ (a, item[0]), (i, item[1]) ])\n",
    "    print('The eigenvalues for the fixed point (%s, %s) are %s:' \n",
    "          %(item[0], item[1], eqmat.eigenvals().keys()))\n",
    "    print('-------------------------------------------')  \n"
   ]
  },
  {
   "cell_type": "code",
   "execution_count": 61,
   "metadata": {},
   "outputs": [],
   "source": [
    "def searchConcentrationForEquilibriumPoints(substrateConcStart = uMtoCount(0.001), substrateConcEnd = uMtoCount(1000)):\n",
    "    substrateConc = np.geomspace(substrateConcStart, substrateConcEnd, 7)    \n",
    "\n",
    "    for conc in substrateConc:\n",
    "        print(f'\\nFor substrate concentration: {round(counttouM(conc), 4)} uM')\n",
    "        # (asuming no negative values)\n",
    "        # to avoid interference kcat = k and conc = c\n",
    "        act, inact = sm.symbols('act, inact', negative=False)\n",
    "        # PFK active\n",
    "        ACT = -KCAT_PFK_ACTIVE * (4000 / ( 1 + inact / act)) * conc / (KM_PFK_ACTIVE + conc) + KCAT_HEXOKINASE * CONC_HEXOKINASE / (CONC_GLUCOSE_T0 + KM_HEXOKINASE_GLUCOSE)\n",
    "        INACT = -KCAT_PFK_INACTIVE * (4000 / ( 1 + act / inact)) * conc / (KM_PFK_INACTIVE + conc) + KCAT_HEXOKINASE * CONC_HEXOKINASE / (CONC_GLUCOSE_T0 + KM_HEXOKINASE_GLUCOSE)\n",
    "\n",
    "        # use sympy's way of setting equations to zero\n",
    "        actEqual = sm.Eq(ACT, 0)\n",
    "        inactEqual = sm.Eq(INACT, 0)\n",
    "\n",
    "        # compute fixed points\n",
    "        equilibria = sm.solve( (actEqual, inactEqual), act, inact )\n",
    "        print('Fixed Points: ')\n",
    "        print(equilibria)\n",
    "\n",
    "\n",
    "        # here again, in order to avoid interference x = r (for resource) and y = c (for consumer) (see above) \n",
    "        # put equations into matrix-form and compute Jacobian-matrix  \n",
    "        eqMat = sm.Matrix([ ACT, INACT ])\n",
    "        Mat = sm.Matrix([ act, inact ])\n",
    "        jacMat = eqMat.jacobian(Mat)\n",
    "        print('Jacobian %s' % jacMat)\n",
    "        print('---------------------')\n",
    "\n",
    "        # iterate through list of equilibria\n",
    "        for item in equilibria:\n",
    "            eqmat = jacMat.subs([ (act, item[0]), (inact, item[1]) ])\n",
    "            \n",
    "            print('The eigenvalues for the fixed point (%s, %s) are %s:' \n",
    "                %(item[0], item[1], eqmat.eigenvals().keys()))\n",
    "            print('-------------------------------------------')  \n",
    "\n"
   ]
  },
  {
   "cell_type": "code",
   "execution_count": 62,
   "metadata": {},
   "outputs": [
    {
     "name": "stdout",
     "output_type": "stream",
     "text": [
      "\n",
      "For substrate concentration: 0.001 uM\n",
      "Fixed Points: \n",
      "[]\n",
      "Jacobian Matrix([[-322274.881516588*inact/(act**2*(1 + inact/act)**2), 322274.881516588/(act*(1 + inact/act)**2)], [0.00219354838702601/(inact*(act/inact + 1)**2), -0.00219354838702601*act/(inact**2*(act/inact + 1)**2)]])\n",
      "---------------------\n",
      "\n",
      "For substrate concentration: 0.01 uM\n",
      "Fixed Points: \n",
      "[]\n",
      "Jacobian Matrix([[-3090909.0909091*inact/(act**2*(1 + inact/act)**2), 3090909.0909091/(act*(1 + inact/act)**2)], [0.0219354838638918/(inact*(act/inact + 1)**2), -0.0219354838638918*act/(inact**2*(act/inact + 1)**2)]])\n",
      "---------------------\n",
      "\n",
      "For substrate concentration: 0.1 uM\n",
      "Fixed Points: \n",
      "[]\n",
      "Jacobian Matrix([[-21935483.8709677*inact/(act**2*(1 + inact/act)**2), 21935483.8709677/(act*(1 + inact/act)**2)], [0.219354838002081/(inact*(act/inact + 1)**2), -0.219354838002081*act/(inact**2*(act/inact + 1)**2)]])\n",
      "---------------------\n",
      "\n",
      "For substrate concentration: 1.0 uM\n",
      "Fixed Points: \n",
      "[]\n",
      "Jacobian Matrix([[-56198347.107438*inact/(act**2*(1 + inact/act)**2), 56198347.107438/(act*(1 + inact/act)**2)], [2.19354831633714/(inact*(act/inact + 1)**2), -2.19354831633714*act/(inact**2*(act/inact + 1)**2)]])\n",
      "---------------------\n",
      "\n",
      "For substrate concentration: 10.0 uM\n",
      "Fixed Points: \n",
      "[]\n",
      "Jacobian Matrix([[-66601371.2047013*inact/(act**2*(1 + inact/act)**2), 66601371.2047013/(act*(1 + inact/act)**2)], [21.9354767950074/(inact*(act/inact + 1)**2), -21.9354767950074*act/(inact**2*(act/inact + 1)**2)]])\n",
      "---------------------\n",
      "\n",
      "For substrate concentration: 100.0 uM\n",
      "Fixed Points: \n",
      "[]\n",
      "Jacobian Matrix([[-67857499.2515717*inact/(act**2*(1 + inact/act)**2), 67857499.2515717/(act*(1 + inact/act)**2)], [219.354131115705/(inact*(act/inact + 1)**2), -219.354131115705*act/(inact**2*(act/inact + 1)**2)]])\n",
      "---------------------\n",
      "\n",
      "For substrate concentration: 1000.0 uM\n",
      "Fixed Points: \n",
      "[]\n",
      "Jacobian Matrix([[-67985722.9981704*inact/(act**2*(1 + inact/act)**2), 67985722.9981704/(act*(1 + inact/act)**2)], [2193.47762975388/(inact*(act/inact + 1)**2), -2193.47762975388*act/(inact**2*(act/inact + 1)**2)]])\n",
      "---------------------\n"
     ]
    }
   ],
   "source": [
    "searchConcentrationForEquilibriumPoints()\n"
   ]
  },
  {
   "cell_type": "code",
   "execution_count": 83,
   "metadata": {},
   "outputs": [
    {
     "name": "stdout",
     "output_type": "stream",
     "text": [
      "\n",
      "For substrate concentration: 15.0 uM\n",
      "Fixed Points: \n",
      "[]\n",
      "Jacobian Matrix([[67061143.9842209*inact/(act**2*(1 + inact/act)**2), -67061143.9842209/(act*(1 + inact/act)**2)], [-32.9032098855436/(inact*(act/inact + 1)**2), 32.9032098855436*act/(inact**2*(act/inact + 1)**2)]])\n",
      "---------------------\n"
     ]
    }
   ],
   "source": [
    "\n",
    "conc = uMtoCount(15.00)\n",
    "\n",
    "print(f'\\nFor substrate concentration: {round(counttouM(conc), 4)} uM')\n",
    "# (asuming no negative values)\n",
    "# to avoid interference kcat = k and conc = c\n",
    "act, inact = sm.symbols('act, inact', negative=False)\n",
    "# PFK active\n",
    "ACT = KCAT_PFK_ACTIVE * (4000 / ( 1 + inact / act)) * conc / (KM_PFK_ACTIVE + conc) - KCAT_HEXOKINASE * CONC_HEXOKINASE / (CONC_GLUCOSE_T0 + KM_HEXOKINASE_GLUCOSE)\n",
    "INACT = KCAT_PFK_INACTIVE * (4000 / ( 1 + act / inact)) * conc / (KM_PFK_INACTIVE + conc) - KCAT_HEXOKINASE * CONC_HEXOKINASE / (CONC_GLUCOSE_T0 + KM_HEXOKINASE_GLUCOSE)\n",
    "\n",
    "# use sympy's way of setting equations to zero\n",
    "actEqual = sm.Eq(ACT, 0)\n",
    "inactEqual = sm.Eq(INACT, 0)\n",
    "\n",
    "# compute fixed points\n",
    "equilibria = sm.solve( (actEqual, inactEqual), act, inact )\n",
    "print('Fixed Points: ')\n",
    "print(equilibria)\n",
    "\n",
    "\n",
    "# here again, in order to avoid interference x = r (for resource) and y = c (for consumer) (see above) \n",
    "# put equations into matrix-form and compute Jacobian-matrix  \n",
    "eqMat = sm.Matrix([ ACT, INACT ])\n",
    "Mat = sm.Matrix([ act, inact ])\n",
    "jacMat = eqMat.jacobian(Mat)\n",
    "print('Jacobian %s' % jacMat)\n",
    "print('---------------------')\n",
    "\n",
    "# iterate through list of equilibria\n",
    "for item in equilibria:\n",
    "    eqmat = jacMat.subs([ (act, item[0]), (inact, item[1]) ])\n",
    "    \n",
    "    print('The eigenvalues for the fixed point (%s, %s) are %s:' \n",
    "        %(item[0], item[1], eqmat.eigenvals().keys()))\n",
    "    print('-------------------------------------------')"
   ]
  },
  {
   "cell_type": "code",
   "execution_count": 81,
   "metadata": {},
   "outputs": [
    {
     "data": {
      "text/latex": [
       "$\\displaystyle 0.0792079207920792 - \\frac{67061143.9842209}{1 + \\frac{inact}{act}} = 0$"
      ],
      "text/plain": [
       "Eq(0.0792079207920792 - 67061143.9842209/(1 + inact/act), 0)"
      ]
     },
     "execution_count": 81,
     "metadata": {},
     "output_type": "execute_result"
    }
   ],
   "source": [
    "actEqual"
   ]
  },
  {
   "cell_type": "code",
   "execution_count": 82,
   "metadata": {},
   "outputs": [
    {
     "data": {
      "text/latex": [
       "$\\displaystyle 0.0792079207920792 - \\frac{32.9032098855436}{\\frac{act}{inact} + 1} = 0$"
      ],
      "text/plain": [
       "Eq(0.0792079207920792 - 32.9032098855436/(act/inact + 1), 0)"
      ]
     },
     "execution_count": 82,
     "metadata": {},
     "output_type": "execute_result"
    }
   ],
   "source": [
    "inactEqual"
   ]
  },
  {
   "cell_type": "code",
   "execution_count": 75,
   "metadata": {},
   "outputs": [
    {
     "data": {
      "text/plain": [
       "{act: 1.18112987908872e-9*inact}"
      ]
     },
     "execution_count": 75,
     "metadata": {},
     "output_type": "execute_result"
    }
   ],
   "source": [
    "sm.solve([actEqual], act, inact)\n"
   ]
  },
  {
   "cell_type": "code",
   "execution_count": 76,
   "metadata": {},
   "outputs": [
    {
     "data": {
      "text/plain": [
       "{act: 414.403024804988*inact}"
      ]
     },
     "execution_count": 76,
     "metadata": {},
     "output_type": "execute_result"
    }
   ],
   "source": [
    "sm.solve([inactEqual], act, inact)"
   ]
  },
  {
   "cell_type": "markdown",
   "metadata": {},
   "source": [
    "Do reduced model with only ATP/ADP sensitivity"
   ]
  },
  {
   "cell_type": "code",
   "execution_count": null,
   "metadata": {},
   "outputs": [],
   "source": [
    "# Attempting to base -- just always assume the active site is saturated with P donor\n",
    "def pfk_active(Conc_Substrate = CONC_F6P,Conc_Activator = 1, Ka = 1, Conc_Enzyme = CONC_PFK_ACTIVE, kcat = KCAT_PFK_ACTIVE, KM = KM_PFK_ACTIVE):\n",
    "    return (kcat * Conc_Enzyme * ((1 + (Conc_Activator / Ka))) * (Conc_Substrate / (KM + Conc_Substrate)))\n",
    "\n",
    "def pyruvateKinase(Conc_Inhibitor = CONC_ATP, Ki = KI_ATP_PYRUVATEKINASE,Conc_Substrate = CONC_F6P, Conc_Enzyme = CONC_PFK_ACTIVE, kcat = KCAT_PFK_ACTIVE, KM = KM_PFK_ACTIVE):\n",
    "    return (kcat * (Conc_Enzyme / (1 + (Conc_Inhibitor / Ki)) * (Conc_Substrate / (KM + Conc_Substrate))))"
   ]
  },
  {
   "cell_type": "code",
   "execution_count": null,
   "metadata": {},
   "outputs": [],
   "source": [
    "atp_Ki_PK = uMtoCount(5000) # made this one up\n",
    "adp_ka_PFK = uMtoCount(74)  # This one is kinda pulled from some number in lit\n",
    "\n",
    "conc = uMtoCount(15.00)\n",
    "\n",
    "print(f'\\nFor substrate concentration: {round(counttouM(conc), 4)} uM')\n",
    "# (asuming no negative values)\n",
    "# to avoid interference kcat = k and conc = c\n",
    "pfk_conc, pk_conc = sm.symbols('pfk_conc, pk_conc', negative=False)\n",
    "# PFK active\n",
    "PFK = KCAT_PFK_ACTIVE * pfk_conc * (1 + (CONC_ADP/adp_ka_PFK)) * conc / (KM_PFK_ACTIVE + conc) \n",
    "PK = KCAT_PK * pk_conc / (1 + (CONC_ATP/KI_ATP_PYRUVATEKINASE)) * conc / (KM_PFK_INACTIVE + conc) \n",
    "\n",
    "# use sympy's way of setting equations to zero\n",
    "actEqual = sm.Eq(ACT, 0)\n",
    "inactEqual = sm.Eq(INACT, 0)\n",
    "\n",
    "# compute fixed points\n",
    "equilibria = sm.solve( (actEqual, inactEqual), act, inact )\n",
    "print('Fixed Points: ')\n",
    "print(equilibria)\n",
    "\n",
    "\n",
    "# here again, in order to avoid interference x = r (for resource) and y = c (for consumer) (see above) \n",
    "# put equations into matrix-form and compute Jacobian-matrix  \n",
    "eqMat = sm.Matrix([ ACT, INACT ])\n",
    "Mat = sm.Matrix([ act, inact ])\n",
    "jacMat = eqMat.jacobian(Mat)\n",
    "print('Jacobian %s' % jacMat)\n",
    "print('---------------------')\n",
    "\n",
    "# iterate through list of equilibria\n",
    "for item in equilibria:\n",
    "    eqmat = jacMat.subs([ (act, item[0]), (inact, item[1]) ])\n",
    "    \n",
    "    print('The eigenvalues for the fixed point (%s, %s) are %s:' \n",
    "        %(item[0], item[1], eqmat.eigenvals().keys()))"
   ]
  },
  {
   "cell_type": "code",
   "execution_count": 114,
   "metadata": {},
   "outputs": [
    {
     "name": "stdout",
     "output_type": "stream",
     "text": [
      "\n",
      "For Vmax: 1e-05 uM\n",
      "Fixed Points: \n",
      "{pfk_conc: 0.0, pk_conc: 0.0}\n",
      "Jacobian Matrix([[23.6419851804467, 0], [0, 1.59693362936714e-9]])\n",
      "---------------------\n",
      "The eigenvalues for the fixed point (pfk_conc, pfk_conc) are dict_keys([23.6419851804467, 1.59693362936714e-9]):\n",
      "-------------------------------------------\n",
      "The eigenvalues for the fixed point (pk_conc, pk_conc) are dict_keys([23.6419851804467, 1.59693362936714e-9]):\n",
      "-------------------------------------------\n",
      "\n",
      "For Vmax: 0.0001 uM\n",
      "Fixed Points: \n",
      "{pfk_conc: 0.0, pk_conc: 0.0}\n",
      "Jacobian Matrix([[23.6419851804467, 0], [0, 1.59693362936714e-9]])\n",
      "---------------------\n",
      "The eigenvalues for the fixed point (pfk_conc, pfk_conc) are dict_keys([23.6419851804467, 1.59693362936714e-9]):\n",
      "-------------------------------------------\n",
      "The eigenvalues for the fixed point (pk_conc, pk_conc) are dict_keys([23.6419851804467, 1.59693362936714e-9]):\n",
      "-------------------------------------------\n",
      "\n",
      "For Vmax: 0.001 uM\n",
      "Fixed Points: \n",
      "{pfk_conc: 0.0, pk_conc: 0.0}\n",
      "Jacobian Matrix([[23.6419851804467, 0], [0, 1.59693362936714e-9]])\n",
      "---------------------\n",
      "The eigenvalues for the fixed point (pfk_conc, pfk_conc) are dict_keys([23.6419851804467, 1.59693362936714e-9]):\n",
      "-------------------------------------------\n",
      "The eigenvalues for the fixed point (pk_conc, pk_conc) are dict_keys([23.6419851804467, 1.59693362936714e-9]):\n",
      "-------------------------------------------\n",
      "\n",
      "For Vmax: 0.01 uM\n",
      "Fixed Points: \n",
      "{pfk_conc: 0.0, pk_conc: 0.0}\n",
      "Jacobian Matrix([[23.6419851804467, 0], [0, 1.59693362936714e-9]])\n",
      "---------------------\n",
      "The eigenvalues for the fixed point (pfk_conc, pfk_conc) are dict_keys([23.6419851804467, 1.59693362936714e-9]):\n",
      "-------------------------------------------\n",
      "The eigenvalues for the fixed point (pk_conc, pk_conc) are dict_keys([23.6419851804467, 1.59693362936714e-9]):\n",
      "-------------------------------------------\n",
      "\n",
      "For Vmax: 0.1 uM\n",
      "Fixed Points: \n",
      "{pfk_conc: 0.0, pk_conc: 0.0}\n",
      "Jacobian Matrix([[23.6419851804467, 0], [0, 1.59693362936714e-9]])\n",
      "---------------------\n",
      "The eigenvalues for the fixed point (pfk_conc, pfk_conc) are dict_keys([23.6419851804467, 1.59693362936714e-9]):\n",
      "-------------------------------------------\n",
      "The eigenvalues for the fixed point (pk_conc, pk_conc) are dict_keys([23.6419851804467, 1.59693362936714e-9]):\n",
      "-------------------------------------------\n",
      "\n",
      "For Vmax: 1.0 uM\n",
      "Fixed Points: \n",
      "{pfk_conc: 0.0, pk_conc: 0.0}\n",
      "Jacobian Matrix([[23.6419851804467, 0], [0, 1.59693362936714e-9]])\n",
      "---------------------\n",
      "The eigenvalues for the fixed point (pfk_conc, pfk_conc) are dict_keys([23.6419851804467, 1.59693362936714e-9]):\n",
      "-------------------------------------------\n",
      "The eigenvalues for the fixed point (pk_conc, pk_conc) are dict_keys([23.6419851804467, 1.59693362936714e-9]):\n",
      "-------------------------------------------\n",
      "\n",
      "For Vmax: 10.0 uM\n",
      "Fixed Points: \n",
      "{pfk_conc: 0.0, pk_conc: 0.0}\n",
      "Jacobian Matrix([[23.6419851804467, 0], [0, 1.59693362936714e-9]])\n",
      "---------------------\n",
      "The eigenvalues for the fixed point (pfk_conc, pfk_conc) are dict_keys([23.6419851804467, 1.59693362936714e-9]):\n",
      "-------------------------------------------\n",
      "The eigenvalues for the fixed point (pk_conc, pk_conc) are dict_keys([23.6419851804467, 1.59693362936714e-9]):\n",
      "-------------------------------------------\n",
      "\n",
      "For Vmax: 100.0 uM\n",
      "Fixed Points: \n",
      "{pfk_conc: 0.0, pk_conc: 0.0}\n",
      "Jacobian Matrix([[23.6419851804467, 0], [0, 1.59693362936714e-9]])\n",
      "---------------------\n",
      "The eigenvalues for the fixed point (pfk_conc, pfk_conc) are dict_keys([23.6419851804467, 1.59693362936714e-9]):\n",
      "-------------------------------------------\n",
      "The eigenvalues for the fixed point (pk_conc, pk_conc) are dict_keys([23.6419851804467, 1.59693362936714e-9]):\n",
      "-------------------------------------------\n",
      "\n",
      "For Vmax: 1000.0 uM\n",
      "Fixed Points: \n",
      "{pfk_conc: 0.0, pk_conc: 0.0}\n",
      "Jacobian Matrix([[23.6419851804467, 0], [0, 1.59693362936714e-9]])\n",
      "---------------------\n",
      "The eigenvalues for the fixed point (pfk_conc, pfk_conc) are dict_keys([23.6419851804467, 1.59693362936714e-9]):\n",
      "-------------------------------------------\n",
      "The eigenvalues for the fixed point (pk_conc, pk_conc) are dict_keys([23.6419851804467, 1.59693362936714e-9]):\n",
      "-------------------------------------------\n",
      "\n",
      "For Vmax: 10000.0 uM\n",
      "Fixed Points: \n",
      "{pfk_conc: 0.0, pk_conc: 0.0}\n",
      "Jacobian Matrix([[23.6419851804467, 0], [0, 1.59693362936714e-9]])\n",
      "---------------------\n",
      "The eigenvalues for the fixed point (pfk_conc, pfk_conc) are dict_keys([23.6419851804467, 1.59693362936714e-9]):\n",
      "-------------------------------------------\n",
      "The eigenvalues for the fixed point (pk_conc, pk_conc) are dict_keys([23.6419851804467, 1.59693362936714e-9]):\n",
      "-------------------------------------------\n",
      "\n",
      "For Vmax: 100000.0 uM\n",
      "Fixed Points: \n",
      "{pfk_conc: 0.0, pk_conc: 0.0}\n",
      "Jacobian Matrix([[23.6419851804467, 0], [0, 1.59693362936714e-9]])\n",
      "---------------------\n",
      "The eigenvalues for the fixed point (pfk_conc, pfk_conc) are dict_keys([23.6419851804467, 1.59693362936714e-9]):\n",
      "-------------------------------------------\n",
      "The eigenvalues for the fixed point (pk_conc, pk_conc) are dict_keys([23.6419851804467, 1.59693362936714e-9]):\n",
      "-------------------------------------------\n",
      "\n",
      "For Vmax: 1000000.0 uM\n",
      "Fixed Points: \n",
      "{pfk_conc: 0.0, pk_conc: 0.0}\n",
      "Jacobian Matrix([[23.6419851804467, 0], [0, 1.59693362936714e-9]])\n",
      "---------------------\n",
      "The eigenvalues for the fixed point (pfk_conc, pfk_conc) are dict_keys([23.6419851804467, 1.59693362936714e-9]):\n",
      "-------------------------------------------\n",
      "The eigenvalues for the fixed point (pk_conc, pk_conc) are dict_keys([23.6419851804467, 1.59693362936714e-9]):\n",
      "-------------------------------------------\n",
      "\n",
      "For Vmax: 10000000.0 uM\n",
      "Fixed Points: \n",
      "{pfk_conc: 0.0, pk_conc: 0.0}\n",
      "Jacobian Matrix([[23.6419851804467, 0], [0, 1.59693362936714e-9]])\n",
      "---------------------\n",
      "The eigenvalues for the fixed point (pfk_conc, pfk_conc) are dict_keys([23.6419851804467, 1.59693362936714e-9]):\n",
      "-------------------------------------------\n",
      "The eigenvalues for the fixed point (pk_conc, pk_conc) are dict_keys([23.6419851804467, 1.59693362936714e-9]):\n",
      "-------------------------------------------\n"
     ]
    }
   ],
   "source": [
    "#del equilibria\n",
    "atp_Ki_PK = uMtoCount(50) # made this one up\n",
    "adp_ka_PFK = uMtoCount(74)  # This one is kinda pulled from some number in lit\n",
    "\n",
    "def searchConcentrationForEquilibriumPoints(substrateConcStart = 0.00001, substrateConcEnd = 10000000):\n",
    "    substrateConc = np.geomspace(substrateConcStart, substrateConcEnd,13)    \n",
    "\n",
    "    for conc in substrateConc:\n",
    "        print(f'\\nFor Vmax: {conc} uM')\n",
    "        # (asuming no negative values)\n",
    "        # to avoid interference kcat = k and conc = c\n",
    "        pfk_conc, pk_conc = sm.symbols('pfk_conc, pk_conc', negative=False)\n",
    "        # PFK active\n",
    "        # For now just set the F6P = 15uM\n",
    "        #PFK = KCAT_PFK_ACTIVE * pfk_conc * (1 + (CONC_ADP/adp_ka_PFK)) * uMtoCount(15) / (KM_PFK_ACTIVE + uMtoCount(15)) \n",
    "        #PK = KCAT_PK * pk_conc / (1 + (CONC_ATP/atp_Ki_PK)) * conc / (KM_PFK_INACTIVE + conc) \n",
    "        \n",
    "        PFK =  pfk_conc * (1 + (CONC_ADP/adp_ka_PFK)) * uMtoCount(15) / (KM_PFK_ACTIVE + uMtoCount(15)) \n",
    "        PK =  pk_conc / (1 + (CONC_ATP/atp_Ki_PK)) * uMtoCount(5) / (KM_PFK_INACTIVE + uMtoCount(5)) \n",
    "\n",
    "        # use sympy's way of setting equations to zero\n",
    "        pfkEqual = sm.Eq(PFK, 0)\n",
    "        pkEqual = sm.Eq(PK, 0)\n",
    "\n",
    "        # compute fixed points\n",
    "        equilibria = sm.solve( (pfkEqual, pkEqual), pfk_conc, pk_conc )\n",
    "        print('Fixed Points: ')\n",
    "        print(equilibria)\n",
    "\n",
    "\n",
    "        # here again, in order to avoid interference x = r (for resource) and y = c (for consumer) (see above) \n",
    "        # put equations into matrix-form and compute Jacobian-matrix  \n",
    "        eqMat = sm.Matrix([ PFK, PK ])\n",
    "        Mat = sm.Matrix([ pfk_conc, pk_conc ])\n",
    "        jacMat = eqMat.jacobian(Mat)\n",
    "        print('Jacobian %s' % jacMat)\n",
    "        print('---------------------')\n",
    "\n",
    "        # iterate through list of equilibria\n",
    "        if equilibria is not None:\n",
    "            for item in equilibria:\n",
    "                eqmat = jacMat.subs([ (pfk_conc, item), (pk_conc, item) ])\n",
    "                \n",
    "                print('The eigenvalues for the fixed point (%s, %s) are %s:' \n",
    "                    %(item, item, eqmat.eigenvals().keys()))\n",
    "                print('-------------------------------------------')  \n",
    "\n",
    "searchConcentrationForEquilibriumPoints()"
   ]
  },
  {
   "cell_type": "code",
   "execution_count": 87,
   "metadata": {},
   "outputs": [
    {
     "name": "stdout",
     "output_type": "stream",
     "text": [
      "\n",
      "For substrate concentration: 0.001 uM\n",
      "Fixed Points: \n",
      "{pfk_conc: 0.0, pk_conc: 0.0}\n",
      "Jacobian Matrix([[1931.47175611631, 0], [0, 2.74193548378252e-9]])\n",
      "---------------------\n"
     ]
    },
    {
     "ename": "TypeError",
     "evalue": "'Symbol' object is not subscriptable",
     "output_type": "error",
     "traceback": [
      "\u001b[1;31m---------------------------------------------------------------------------\u001b[0m",
      "\u001b[1;31mTypeError\u001b[0m                                 Traceback (most recent call last)",
      "\u001b[1;32m~\\AppData\\Local\\Temp/ipykernel_7652/3126996810.py\u001b[0m in \u001b[0;36m<module>\u001b[1;34m\u001b[0m\n\u001b[1;32m----> 1\u001b[1;33m \u001b[0msearchConcentrationForEquilibriumPoints\u001b[0m\u001b[1;33m(\u001b[0m\u001b[1;33m)\u001b[0m\u001b[1;33m\u001b[0m\u001b[1;33m\u001b[0m\u001b[0m\n\u001b[0m",
      "\u001b[1;32m~\\AppData\\Local\\Temp/ipykernel_7652/3694643349.py\u001b[0m in \u001b[0;36msearchConcentrationForEquilibriumPoints\u001b[1;34m(substrateConcStart, substrateConcEnd)\u001b[0m\n\u001b[0;32m     34\u001b[0m         \u001b[1;31m# iterate through list of equilibria\u001b[0m\u001b[1;33m\u001b[0m\u001b[1;33m\u001b[0m\u001b[0m\n\u001b[0;32m     35\u001b[0m         \u001b[1;32mfor\u001b[0m \u001b[0mitem\u001b[0m \u001b[1;32min\u001b[0m \u001b[0mequilibria\u001b[0m\u001b[1;33m:\u001b[0m\u001b[1;33m\u001b[0m\u001b[1;33m\u001b[0m\u001b[0m\n\u001b[1;32m---> 36\u001b[1;33m             \u001b[0meqmat\u001b[0m \u001b[1;33m=\u001b[0m \u001b[0mjacMat\u001b[0m\u001b[1;33m.\u001b[0m\u001b[0msubs\u001b[0m\u001b[1;33m(\u001b[0m\u001b[1;33m[\u001b[0m \u001b[1;33m(\u001b[0m\u001b[0mpfk_conc\u001b[0m\u001b[1;33m,\u001b[0m \u001b[0mitem\u001b[0m\u001b[1;33m[\u001b[0m\u001b[1;36m0\u001b[0m\u001b[1;33m]\u001b[0m\u001b[1;33m)\u001b[0m\u001b[1;33m,\u001b[0m \u001b[1;33m(\u001b[0m\u001b[0mpk_conc\u001b[0m\u001b[1;33m,\u001b[0m \u001b[0mitem\u001b[0m\u001b[1;33m[\u001b[0m\u001b[1;36m1\u001b[0m\u001b[1;33m]\u001b[0m\u001b[1;33m)\u001b[0m \u001b[1;33m]\u001b[0m\u001b[1;33m)\u001b[0m\u001b[1;33m\u001b[0m\u001b[1;33m\u001b[0m\u001b[0m\n\u001b[0m\u001b[0;32m     37\u001b[0m \u001b[1;33m\u001b[0m\u001b[0m\n\u001b[0;32m     38\u001b[0m             print('The eigenvalues for the fixed point (%s, %s) are %s:' \n",
      "\u001b[1;31mTypeError\u001b[0m: 'Symbol' object is not subscriptable"
     ]
    }
   ],
   "source": [
    "searchConcentrationForEquilibriumPoints()"
   ]
  },
  {
   "cell_type": "code",
   "execution_count": 99,
   "metadata": {},
   "outputs": [
    {
     "ename": "NameError",
     "evalue": "name 'pfk_conc' is not defined",
     "output_type": "error",
     "traceback": [
      "\u001b[1;31m---------------------------------------------------------------------------\u001b[0m",
      "\u001b[1;31mNameError\u001b[0m                                 Traceback (most recent call last)",
      "\u001b[1;32m~\\AppData\\Local\\Temp/ipykernel_7652/3287630199.py\u001b[0m in \u001b[0;36m<module>\u001b[1;34m\u001b[0m\n\u001b[0;32m      1\u001b[0m \u001b[1;31m# For now just set the F6P = 15uM\u001b[0m\u001b[1;33m\u001b[0m\u001b[1;33m\u001b[0m\u001b[0m\n\u001b[1;32m----> 2\u001b[1;33m \u001b[0mPFK\u001b[0m \u001b[1;33m=\u001b[0m \u001b[0mKCAT_PFK_ACTIVE\u001b[0m \u001b[1;33m*\u001b[0m \u001b[0mpfk_conc\u001b[0m \u001b[1;33m*\u001b[0m \u001b[1;33m(\u001b[0m\u001b[1;36m1\u001b[0m \u001b[1;33m+\u001b[0m \u001b[1;33m(\u001b[0m\u001b[0mCONC_ADP\u001b[0m\u001b[1;33m/\u001b[0m\u001b[0madp_ka_PFK\u001b[0m\u001b[1;33m)\u001b[0m\u001b[1;33m)\u001b[0m \u001b[1;33m*\u001b[0m \u001b[0muMtoCount\u001b[0m\u001b[1;33m(\u001b[0m\u001b[1;36m15\u001b[0m\u001b[1;33m)\u001b[0m \u001b[1;33m/\u001b[0m \u001b[1;33m(\u001b[0m\u001b[0mKM_PFK_ACTIVE\u001b[0m \u001b[1;33m+\u001b[0m \u001b[0mconc\u001b[0m\u001b[1;33m)\u001b[0m\u001b[1;33m\u001b[0m\u001b[1;33m\u001b[0m\u001b[0m\n\u001b[0m\u001b[0;32m      3\u001b[0m \u001b[0mPK\u001b[0m \u001b[1;33m=\u001b[0m \u001b[0mKCAT_PK\u001b[0m \u001b[1;33m*\u001b[0m \u001b[0mpk_conc\u001b[0m \u001b[1;33m/\u001b[0m \u001b[1;33m(\u001b[0m\u001b[1;36m1\u001b[0m \u001b[1;33m+\u001b[0m \u001b[1;33m(\u001b[0m\u001b[0mCONC_ATP\u001b[0m\u001b[1;33m/\u001b[0m\u001b[0matp_Ki_PK\u001b[0m\u001b[1;33m)\u001b[0m\u001b[1;33m)\u001b[0m \u001b[1;33m*\u001b[0m \u001b[0mconc\u001b[0m \u001b[1;33m/\u001b[0m \u001b[1;33m(\u001b[0m\u001b[0mKM_PFK_INACTIVE\u001b[0m \u001b[1;33m+\u001b[0m \u001b[0mconc\u001b[0m\u001b[1;33m)\u001b[0m\u001b[1;33m\u001b[0m\u001b[1;33m\u001b[0m\u001b[0m\n\u001b[0;32m      4\u001b[0m \u001b[1;33m\u001b[0m\u001b[0m\n\u001b[0;32m      5\u001b[0m \u001b[1;33m\u001b[0m\u001b[0m\n",
      "\u001b[1;31mNameError\u001b[0m: name 'pfk_conc' is not defined"
     ]
    }
   ],
   "source": [
    " # For now just set the F6P = 15uM\n",
    "PFK = KCAT_PFK_ACTIVE * pfk_conc * (1 + (CONC_ADP/adp_ka_PFK)) * uMtoCount(15) / (KM_PFK_ACTIVE + conc) \n",
    "PK = KCAT_PK * pk_conc / (1 + (CONC_ATP/atp_Ki_PK)) * conc / (KM_PFK_INACTIVE + conc) \n",
    "\n",
    "\n",
    "# use sympy's way of setting equations to zero\n",
    "pfkEqual = sm.Eq(PFK, 0)\n",
    "\n",
    "pfkEqual"
   ]
  },
  {
   "cell_type": "code",
   "execution_count": null,
   "metadata": {},
   "outputs": [],
   "source": []
  },
  {
   "cell_type": "code",
   "execution_count": null,
   "metadata": {},
   "outputs": [],
   "source": []
  },
  {
   "cell_type": "code",
   "execution_count": null,
   "metadata": {},
   "outputs": [],
   "source": []
  },
  {
   "cell_type": "code",
   "execution_count": null,
   "metadata": {},
   "outputs": [],
   "source": []
  },
  {
   "cell_type": "code",
   "execution_count": null,
   "metadata": {},
   "outputs": [],
   "source": []
  }
 ],
 "metadata": {
  "kernelspec": {
   "display_name": "Python 3.9.7 ('testingPackages')",
   "language": "python",
   "name": "python3"
  },
  "language_info": {
   "codemirror_mode": {
    "name": "ipython",
    "version": 3
   },
   "file_extension": ".py",
   "mimetype": "text/x-python",
   "name": "python",
   "nbconvert_exporter": "python",
   "pygments_lexer": "ipython3",
   "version": "3.9.7"
  },
  "orig_nbformat": 4,
  "vscode": {
   "interpreter": {
    "hash": "53a13f3ec9e14a621953636e941a816bb9cef192f822521375f56526d00c1a5e"
   }
  }
 },
 "nbformat": 4,
 "nbformat_minor": 2
}
