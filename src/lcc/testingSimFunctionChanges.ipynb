{
 "cells": [
  {
   "cell_type": "code",
   "execution_count": 1,
   "metadata": {},
   "outputs": [],
   "source": [
    "import numpy as np\n",
    "import SimFunctions as SimF"
   ]
  },
  {
   "cell_type": "code",
   "execution_count": 2,
   "metadata": {},
   "outputs": [],
   "source": [
    "N_SimSteps = 1000\n",
    "class FState:\n",
    "    def __init__(self):\n",
    "        self.Vol = 0\n",
    "        self.SimTimeResolutionPerSecond = 100\n",
    "        self.SimStep = 0\n",
    "        self.N_SimSteps = np.array(1000)\n",
    "\n",
    "        self.Idx_Restore_Pseudo = np.array([0])\n",
    "        # State Arrays\n",
    "        # Temporary legend attribute\n",
    "        self.Mol_Names = list()\n",
    "        self.Mol_Name2Idx = dict()\n",
    "        self.Legends = list()\n",
    "\n",
    "        self.Count_All = np.zeros([1, 73])\n",
    "        self.dCount_All = np.zeros([1, 73])\n",
    "\n",
    "        # Enz_MichaelisMenten_Unregulated\n",
    "        self.Idx_Enz_Enz_MichaelisMenten_Unregulated = None\n",
    "        self.Const_kcat_Enz_MichaelisMenten_Unregulated = None\n",
    "        self.Const_KM_Enz_MichaelisMenten_Unregulated = None\n",
    "        self.Idx_EnzSub_Enz_MichaelisMenten_Unregulated = None\n",
    "\n",
    "        self.Idx_Mol_InStoichMatrix_Enz_MichaelisMenten_Unregulated = None\n",
    "        self.Const_StoichMatrix_Enz_MichaelisMenten_Unregulated = None\n",
    "\n",
    "    def Initialize(self):\n",
    "        self.Vol = 1\n",
    "\n",
    "        # Enz_MichaelisMenten_Unregulated\n",
    "        self.Idx_Enz_Enz_MichaelisMenten_Unregulated = np.array([ 3,  5,  6,  9, 11, 12, 15, 17, 18, \n",
    "                                                                 21, 23, 24, 27, 29, 30, 33, 35, 36,\n",
    "                                                                 39, 41, 42, 45, 47, 48, 51, 53, 54,\n",
    "                                                                 57, 59, 60, 63, 65, 66, 69, 71, 72, ])\n",
    "        self.Const_kcat_Enz_MichaelisMenten_Unregulated = np.array([5.000000e+00, 5.000000e+00, 5.000000e+00, 4.000000e+01, 4.000000e+01, 4.000000e+01,\n",
    "                                                                    1.000000e+02, 1.000000e+02, 1.000000e+02, 1.000000e+03, 1.000000e+03, 1.000000e+03,\n",
    "                                                                    5.000000e+00, 5.000000e+00, 5.000000e+00, 4.000000e+01, 4.000000e+01, 4.000000e+01,\n",
    "                                                                    1.000000e+02, 1.000000e+02, 1.000000e+02, 1.000000e+03, 1.000000e+03, 1.000000e+03,\n",
    "                                                                    5.000000e+00, 5.000000e+00, 5.000000e+00, 4.000000e+01, 4.000000e+01, 4.000000e+01,\n",
    "                                                                    1.000000e+02, 1.000000e+02, 1.000000e+02, 1.000000e+03, 1.000000e+03, 1.000000e+03, ])\n",
    "        self.Const_KM_Enz_MichaelisMenten_Unregulated = np.array([1.000000e+01, 1.000000e+01, 1.000000e+01, 1.000000e+01, 1.000000e+01, 1.000000e+01,\n",
    "                                                                  1.000000e+01, 1.000000e+01, 1.000000e+01, 1.000000e+01, 1.000000e+01, 1.000000e+01,\n",
    "                                                                  1.000000e+01, 1.000000e+01, 1.000000e+01, 1.000000e+01, 1.000000e+01, 1.000000e+01,\n",
    "                                                                  1.000000e+01, 1.000000e+01, 1.000000e+01, 1.000000e+00, 1.000000e+00, 1.000000e+00,\n",
    "                                                                  1.000000e+01, 1.000000e+01, 1.000000e+01, 1.000000e+01, 1.000000e+01, 1.000000e+01,\n",
    "                                                                  1.000000e+01, 1.000000e+01, 1.000000e+01, 1.000000e+01, 1.000000e+01, 1.000000e+01, ])\n",
    "        self.Idx_EnzSub_Enz_MichaelisMenten_Unregulated = np.array([1, 2, 4, 7, 8, 10, 13, 14, 16, 19, 20, 22, 25, 26, 28, 31, 32, 34, 37, 38, 40, 43,\n",
    "                                                                    44, 46, 49, 50, 52, 55, 56, 58, 61, 62, 64, 67, 68, 70, ])\n",
    "\n",
    "        self.Idx_Mol_InStoichMatrix_Enz_MichaelisMenten_Unregulated = np.asmatrix([1, 2, 4, 7, 8, 10, 13, 14, 16, 19, 20, 22, 25, 26, 28, 31, 32, 34, 37,\n",
    "                                                                                    38, 40, 43, 44, 46, 49, 50, 52, 55, 56, 58, 61, 62, 64, 67, 68, 70, ])\n",
    "        self.Const_StoichMatrix_Enz_MichaelisMenten_Unregulated = np.asmatrix([[-1, 1, 0, 0, 0, 0, 0, 0, 0, 0, 0, 0, 0, 0, 0, 0, 0, 0, 0, 0, 0, 0, 0, 0, 0, 0, 0, 0, 0, 0, 0, 0, 0, 0, 0, 0, ],\n",
    "                                                                               [0, -1, 1, 0, 0, 0, 0, 0, 0, 0, 0, 0, 0, 0, 0, 0, 0, 0, 0, 0, 0, 0, 0, 0, 0, 0, 0, 0, 0, 0, 0, 0, 0, 0, 0, 0, ],\n",
    "                                                                               [1, 0, -1, 0, 0, 0, 0, 0, 0, 0, 0, 0, 0, 0, 0, 0, 0, 0, 0, 0, 0, 0, 0, 0, 0, 0, 0, 0, 0, 0, 0, 0, 0, 0, 0, 0, ],\n",
    "                                                                               [0, 0, 0, -1, 1, 0, 0, 0, 0, 0, 0, 0, 0, 0, 0, 0, 0, 0, 0, 0, 0, 0, 0, 0, 0, 0, 0, 0, 0, 0, 0, 0, 0, 0, 0, 0, ],\n",
    "                                                                               [0, 0, 0, 0, -1, 1, 0, 0, 0, 0, 0, 0, 0, 0, 0, 0, 0, 0, 0, 0, 0, 0, 0, 0, 0, 0, 0, 0, 0, 0, 0, 0, 0, 0, 0, 0, ],\n",
    "                                                                               [0, 0, 0, 1, 0, -1, 0, 0, 0, 0, 0, 0, 0, 0, 0, 0, 0, 0, 0, 0, 0, 0, 0, 0, 0, 0, 0, 0, 0, 0, 0, 0, 0, 0, 0, 0, ],\n",
    "                                                                               [0, 0, 0, 0, 0, 0, -1, 1, 0, 0, 0, 0, 0, 0, 0, 0, 0, 0, 0, 0, 0, 0, 0, 0, 0, 0, 0, 0, 0, 0, 0, 0, 0, 0, 0, 0, ],\n",
    "                                                                               [0, 0, 0, 0, 0, 0, 0, -1, 1, 0, 0, 0, 0, 0, 0, 0, 0, 0, 0, 0, 0, 0, 0, 0, 0, 0, 0, 0, 0, 0, 0, 0, 0, 0, 0, 0, ],\n",
    "                                                                               [0, 0, 0, 0, 0, 0, 1, 0, -1, 0, 0, 0, 0, 0, 0, 0, 0, 0, 0, 0, 0, 0, 0, 0, 0, 0, 0, 0, 0, 0, 0, 0, 0, 0, 0, 0, ],\n",
    "                                                                               [0, 0, 0, 0, 0, 0, 0, 0, 0, -1, 1, 0, 0, 0, 0, 0, 0, 0, 0, 0, 0, 0, 0, 0, 0, 0, 0, 0, 0, 0, 0, 0, 0, 0, 0, 0, ],\n",
    "                                                                               [0, 0, 0, 0, 0, 0, 0, 0, 0, 0, -1, 1, 0, 0, 0, 0, 0, 0, 0, 0, 0, 0, 0, 0, 0, 0, 0, 0, 0, 0, 0, 0, 0, 0, 0, 0, ],\n",
    "                                                                               [0, 0, 0, 0, 0, 0, 0, 0, 0, 1, 0, -1, 0, 0, 0, 0, 0, 0, 0, 0, 0, 0, 0, 0, 0, 0, 0, 0, 0, 0, 0, 0, 0, 0, 0, 0, ],\n",
    "                                                                               [0, 0, 0, 0, 0, 0, 0, 0, 0, 0, 0, 0, -1, 1, 0, 0, 0, 0, 0, 0, 0, 0, 0, 0, 0, 0, 0, 0, 0, 0, 0, 0, 0, 0, 0, 0, ],\n",
    "                                                                               [0, 0, 0, 0, 0, 0, 0, 0, 0, 0, 0, 0, 0, -1, 1, 0, 0, 0, 0, 0, 0, 0, 0, 0, 0, 0, 0, 0, 0, 0, 0, 0, 0, 0, 0, 0, ],\n",
    "                                                                               [0, 0, 0, 0, 0, 0, 0, 0, 0, 0, 0, 0, 1, 0, -1, 0, 0, 0, 0, 0, 0, 0, 0, 0, 0, 0, 0, 0, 0, 0, 0, 0, 0, 0, 0, 0, ],\n",
    "                                                                               [0, 0, 0, 0, 0, 0, 0, 0, 0, 0, 0, 0, 0, 0, 0, -1, 1, 0, 0, 0, 0, 0, 0, 0, 0, 0, 0, 0, 0, 0, 0, 0, 0, 0, 0, 0, ],\n",
    "                                                                               [0, 0, 0, 0, 0, 0, 0, 0, 0, 0, 0, 0, 0, 0, 0, 0, -1, 1, 0, 0, 0, 0, 0, 0, 0, 0, 0, 0, 0, 0, 0, 0, 0, 0, 0, 0, ],\n",
    "                                                                               [0, 0, 0, 0, 0, 0, 0, 0, 0, 0, 0, 0, 0, 0, 0, 1, 0, -1, 0, 0, 0, 0, 0, 0, 0, 0, 0, 0, 0, 0, 0, 0, 0, 0, 0, 0, ],\n",
    "                                                                               [0, 0, 0, 0, 0, 0, 0, 0, 0, 0, 0, 0, 0, 0, 0, 0, 0, 0, -1, 1, 0, 0, 0, 0, 0, 0, 0, 0, 0, 0, 0, 0, 0, 0, 0, 0, ],\n",
    "                                                                               [0, 0, 0, 0, 0, 0, 0, 0, 0, 0, 0, 0, 0, 0, 0, 0, 0, 0, 0, -1, 1, 0, 0, 0, 0, 0, 0, 0, 0, 0, 0, 0, 0, 0, 0, 0, ],\n",
    "                                                                               [0, 0, 0, 0, 0, 0, 0, 0, 0, 0, 0, 0, 0, 0, 0, 0, 0, 0, 1, 0, -1, 0, 0, 0, 0, 0, 0, 0, 0, 0, 0, 0, 0, 0, 0, 0, ],\n",
    "                                                                               [0, 0, 0, 0, 0, 0, 0, 0, 0, 0, 0, 0, 0, 0, 0, 0, 0, 0, 0, 0, 0, -1, 1, 0, 0, 0, 0, 0, 0, 0, 0, 0, 0, 0, 0, 0, ],\n",
    "                                                                               [0, 0, 0, 0, 0, 0, 0, 0, 0, 0, 0, 0, 0, 0, 0, 0, 0, 0, 0, 0, 0, 0, -1, 1, 0, 0, 0, 0, 0, 0, 0, 0, 0, 0, 0, 0, ],\n",
    "                                                                               [0, 0, 0, 0, 0, 0, 0, 0, 0, 0, 0, 0, 0, 0, 0, 0, 0, 0, 0, 0, 0, 1, 0, -1, 0, 0, 0, 0, 0, 0, 0, 0, 0, 0, 0, 0, ],\n",
    "                                                                               [0, 0, 0, 0, 0, 0, 0, 0, 0, 0, 0, 0, 0, 0, 0, 0, 0, 0, 0, 0, 0, 0, 0, 0, -1, 1, 0, 0, 0, 0, 0, 0, 0, 0, 0, 0, ],\n",
    "                                                                               [0, 0, 0, 0, 0, 0, 0, 0, 0, 0, 0, 0, 0, 0, 0, 0, 0, 0, 0, 0, 0, 0, 0, 0, 0, -1, 1, 0, 0, 0, 0, 0, 0, 0, 0, 0, ],\n",
    "                                                                               [0, 0, 0, 0, 0, 0, 0, 0, 0, 0, 0, 0, 0, 0, 0, 0, 0, 0, 0, 0, 0, 0, 0, 0, 1, 0, -1, 0, 0, 0, 0, 0, 0, 0, 0, 0, ],\n",
    "                                                                               [0, 0, 0, 0, 0, 0, 0, 0, 0, 0, 0, 0, 0, 0, 0, 0, 0, 0, 0, 0, 0, 0, 0, 0, 0, 0, 0, -1, 1, 0, 0, 0, 0, 0, 0, 0, ],\n",
    "                                                                               [0, 0, 0, 0, 0, 0, 0, 0, 0, 0, 0, 0, 0, 0, 0, 0, 0, 0, 0, 0, 0, 0, 0, 0, 0, 0, 0, 0, -1, 1, 0, 0, 0, 0, 0, 0, ],\n",
    "                                                                               [0, 0, 0, 0, 0, 0, 0, 0, 0, 0, 0, 0, 0, 0, 0, 0, 0, 0, 0, 0, 0, 0, 0, 0, 0, 0, 0, 1, 0, -1, 0, 0, 0, 0, 0, 0, ],\n",
    "                                                                               [0, 0, 0, 0, 0, 0, 0, 0, 0, 0, 0, 0, 0, 0, 0, 0, 0, 0, 0, 0, 0, 0, 0, 0, 0, 0, 0, 0, 0, 0, -1, 1, 0, 0, 0, 0, ],\n",
    "                                                                               [0, 0, 0, 0, 0, 0, 0, 0, 0, 0, 0, 0, 0, 0, 0, 0, 0, 0, 0, 0, 0, 0, 0, 0, 0, 0, 0, 0, 0, 0, 0, -1, 1, 0, 0, 0, ],\n",
    "                                                                               [0, 0, 0, 0, 0, 0, 0, 0, 0, 0, 0, 0, 0, 0, 0, 0, 0, 0, 0, 0, 0, 0, 0, 0, 0, 0, 0, 0, 0, 0, 1, 0, -1, 0, 0, 0, ],\n",
    "                                                                               [0, 0, 0, 0, 0, 0, 0, 0, 0, 0, 0, 0, 0, 0, 0, 0, 0, 0, 0, 0, 0, 0, 0, 0, 0, 0, 0, 0, 0, 0, 0, 0, 0, -1, 1, 0, ],\n",
    "                                                                               [0, 0, 0, 0, 0, 0, 0, 0, 0, 0, 0, 0, 0, 0, 0, 0, 0, 0, 0, 0, 0, 0, 0, 0, 0, 0, 0, 0, 0, 0, 0, 0, 0, 0, -1, 1, ],\n",
    "                                                                               [0, 0, 0, 0, 0, 0, 0, 0, 0, 0, 0, 0, 0, 0, 0, 0, 0, 0, 0, 0, 0, 0, 0, 0, 0, 0, 0, 0, 0, 0, 0, 0, 0, 1, 0, -1, ], ])\n",
    "\n",
    "        self.Mol_Names = ['Pseudo', 'TC1_A', 'TC1_B', 'TestCase1_A', 'TC1_C', 'TestCase1_B', 'TestCase1_C', 'TC2_A', 'TC2_B', 'TestCase2_A', 'TC2_C', 'TestCase2_B', 'TestCase2_C', 'TC3_A', 'TC3_B', 'TestCase3_A', 'TC3_C', 'TestCase3_B', 'TestCase3_C', 'TC4_A', 'TC4_B', 'TestCase4_A', 'TC4_C', 'TestCase4_B', 'TestCase4_C', 'TC5_A', 'TC5_B', 'TestCase5_A', 'TC5_C', 'TestCase5_B', 'TestCase5_C', 'TC6_A', 'TC6_B', 'TestCase6_A', 'TC6_C', 'TestCase6_B', 'TestCase6_C', 'TC7_A', 'TC7_B', 'TestCase7_A', 'TC7_C', 'TestCase7_B', 'TestCase7_C', 'TC8_A', 'TC8_B', 'TestCase8_A', 'TC8_C', 'TestCase8_B', 'TestCase8_C', 'TC9_A', 'TC9_B', 'TestCase9_A', 'TC9_C', 'TestCase9_B', 'TestCase9_C', 'TC10_A', 'TC10_B', 'TestCase10_A', 'TC10_C', 'TestCase10_B', 'TestCase10_C', 'TC11_A', 'TC11_B', 'TestCase11_A', 'TC11_C', 'TestCase11_B', 'TestCase11_C', 'TC12_A', 'TC12_B', 'TestCase12_A', 'TC12_C', 'TestCase12_B', 'TestCase12_C', ]\n",
    "        self.Mol_Name2Idx = {'Pseudo' : np.array([0]), 'TC1_A' : np.array([1]), 'TC1_B' : np.array([2]), 'TestCase1_A' : np.array([3]), 'TC1_C' : np.array([4]), 'TestCase1_B' : np.array([5]), 'TestCase1_C' : np.array([6]), 'TC2_A' : np.array([7]), 'TC2_B' : np.array([8]), 'TestCase2_A' : np.array([9]), 'TC2_C' : np.array([10]), 'TestCase2_B' : np.array([11]), 'TestCase2_C' : np.array([12]), 'TC3_A' : np.array([13]), 'TC3_B' : np.array([14]), 'TestCase3_A' : np.array([15]), 'TC3_C' : np.array([16]), 'TestCase3_B' : np.array([17]), 'TestCase3_C' : np.array([18]), 'TC4_A' : np.array([19]), 'TC4_B' : np.array([20]), 'TestCase4_A' : np.array([21]), 'TC4_C' : np.array([22]), 'TestCase4_B' : np.array([23]), 'TestCase4_C' : np.array([24]), 'TC5_A' : np.array([25]), 'TC5_B' : np.array([26]), 'TestCase5_A' : np.array([27]), 'TC5_C' : np.array([28]), 'TestCase5_B' : np.array([29]), 'TestCase5_C' : np.array([30]), 'TC6_A' : np.array([31]), 'TC6_B' : np.array([32]), 'TestCase6_A' : np.array([33]), 'TC6_C' : np.array([34]), 'TestCase6_B' : np.array([35]), 'TestCase6_C' : np.array([36]), 'TC7_A' : np.array([37]), 'TC7_B' : np.array([38]), 'TestCase7_A' : np.array([39]), 'TC7_C' : np.array([40]), 'TestCase7_B' : np.array([41]), 'TestCase7_C' : np.array([42]), 'TC8_A' : np.array([43]), 'TC8_B' : np.array([44]), 'TestCase8_A' : np.array([45]), 'TC8_C' : np.array([46]), 'TestCase8_B' : np.array([47]), 'TestCase8_C' : np.array([48]), 'TC9_A' : np.array([49]), 'TC9_B' : np.array([50]), 'TestCase9_A' : np.array([51]), 'TC9_C' : np.array([52]), 'TestCase9_B' : np.array([53]), 'TestCase9_C' : np.array([54]), 'TC10_A' : np.array([55]), 'TC10_B' : np.array([56]), 'TestCase10_A' : np.array([57]), 'TC10_C' : np.array([58]), 'TestCase10_B' : np.array([59]), 'TestCase10_C' : np.array([60]), 'TC11_A' : np.array([61]), 'TC11_B' : np.array([62]), 'TestCase11_A' : np.array([63]), 'TC11_C' : np.array([64]), 'TestCase11_B' : np.array([65]), 'TestCase11_C' : np.array([66]), 'TC12_A' : np.array([67]), 'TC12_B' : np.array([68]), 'TestCase12_A' : np.array([69]), 'TC12_C' : np.array([70]), 'TestCase12_B' : np.array([71]), 'TestCase12_C' : np.array([72]), }\n",
    "        self.Legends = ['SimStep', 'Vol', 'Pseudo', 'TC1_A', 'TC1_B', 'TestCase1_A', 'TC1_C', 'TestCase1_B', 'TestCase1_C', 'TC2_A', 'TC2_B', 'TestCase2_A', 'TC2_C', 'TestCase2_B', 'TestCase2_C', 'TC3_A', 'TC3_B', 'TestCase3_A', 'TC3_C', 'TestCase3_B', 'TestCase3_C', 'TC4_A', 'TC4_B', 'TestCase4_A', 'TC4_C', 'TestCase4_B', 'TestCase4_C', 'TC5_A', 'TC5_B', 'TestCase5_A', 'TC5_C', 'TestCase5_B', 'TestCase5_C', 'TC6_A', 'TC6_B', 'TestCase6_A', 'TC6_C', 'TestCase6_B', 'TestCase6_C', 'TC7_A', 'TC7_B', 'TestCase7_A', 'TC7_C', 'TestCase7_B', 'TestCase7_C', 'TC8_A', 'TC8_B', 'TestCase8_A', 'TC8_C', 'TestCase8_B', 'TestCase8_C', 'TC9_A', 'TC9_B', 'TestCase9_A', 'TC9_C', 'TestCase9_B', 'TestCase9_C', 'TC10_A', 'TC10_B', 'TestCase10_A', 'TC10_C', 'TestCase10_B', 'TestCase10_C', 'TC11_A', 'TC11_B', 'TestCase11_A', 'TC11_C', 'TestCase11_B', 'TestCase11_C', 'TC12_A', 'TC12_B', 'TestCase12_A', 'TC12_C', 'TestCase12_B', 'TestCase12_C', ]\n",
    "\n",
    "        Idx_Mol = np.array([0, 1, 2, 3, 4, 5, 6, 7, 8, 9, 10, 11, 12, 13, 14, 15, 16, 17, 18, 19, 20, 21, 22, 23, 24, 25, 26, 27, 28, 29, 30, 31, 32, 33, 34, 35, 36, 37, 38, 39, 40, 41, 42, 43, 44, 45, 46, 47, 48, 49, 50, 51, 52, 53, 54, 55, 56, 57, 58, 59, 60, 61, 62, 63, 64, 65, 66, 67, 68, 69, 70, 71, 72, ], ndmin=2)\n",
    "        Count_Mol = np.array([6.022141e+23, 6.022141e+20, 1.806642e+21, 6.022141e+19, 1.204428e+21, 6.022141e+19, 6.022141e+19, 3.613285e+21, 2.408856e+21, 6.022141e+19, 3.011070e+21, 6.022141e+19, 6.022141e+19, 4.817713e+21, 5.419927e+21, 6.022141e+19, 4.215499e+21, 6.022141e+19, 6.022141e+19, 6.022141e+21, 7.226569e+21, 6.022141e+19, 6.624355e+21, 6.022141e+19, 6.022141e+19, 9.033212e+20, 2.107749e+21, 6.022141e+20, 1.505535e+21, 6.022141e+20, 6.022141e+20, 3.914392e+21, 2.709963e+21, 6.022141e+20, 3.312177e+21, 6.022141e+20, 6.022141e+20, 5.118820e+21, 5.721034e+21, 6.022141e+20, 4.516606e+21, 6.022141e+20, 6.022141e+20, 6.323248e+21, 7.527676e+21, 6.022141e+20, 6.925462e+21, 6.022141e+20, 6.022141e+20, 1.294760e+22, 1.415203e+22, 6.022141e+21, 1.354982e+22, 6.022141e+21, 6.022141e+21, 1.595867e+22, 1.475424e+22, 6.022141e+21, 1.535646e+22, 6.022141e+21, 6.022141e+21, 1.716310e+22, 1.776532e+22, 6.022141e+21, 1.656089e+22, 6.022141e+21, 6.022141e+21, 1.836753e+22, 1.957196e+22, 6.022141e+21, 1.896974e+22, 6.022141e+21, 6.022141e+21, ])\n",
    "        MolarityFactor_Mol = np.array([1.000000e+00, 1.000000e+00, 1.000000e+00, 1.000000e+00, 1.000000e+00, 1.000000e+00, 1.000000e+00, 1.000000e+00, 1.000000e+00, 1.000000e+00, 1.000000e+00, 1.000000e+00, 1.000000e+00, 1.000000e+00, 1.000000e+00, 1.000000e+00, 1.000000e+00, 1.000000e+00, 1.000000e+00, 1.000000e+00, 1.000000e+00, 1.000000e+00, 1.000000e+00, 1.000000e+00, 1.000000e+00, 1.000000e+00, 1.000000e+00, 1.000000e+00, 1.000000e+00, 1.000000e+00, 1.000000e+00, 1.000000e+00, 1.000000e+00, 1.000000e+00, 1.000000e+00, 1.000000e+00, 1.000000e+00, 1.000000e+00, 1.000000e+00, 1.000000e+00, 1.000000e+00, 1.000000e+00, 1.000000e+00, 1.000000e+00, 1.000000e+00, 1.000000e+00, 1.000000e+00, 1.000000e+00, 1.000000e+00, 1.000000e+00, 1.000000e+00, 1.000000e+00, 1.000000e+00, 1.000000e+00, 1.000000e+00, 1.000000e+00, 1.000000e+00, 1.000000e+00, 1.000000e+00, 1.000000e+00, 1.000000e+00, 1.000000e+00, 1.000000e+00, 1.000000e+00, 1.000000e+00, 1.000000e+00, 1.000000e+00, 1.000000e+00, 1.000000e+00, 1.000000e+00, 1.000000e+00, 1.000000e+00, 1.000000e+00, ])\n",
    "        MolarityFactor_Mol = np.where(MolarityFactor_Mol == 1, self.Vol, 1)\n",
    "        Count_Mol *= MolarityFactor_Mol\n",
    "        np.put_along_axis(self.Count_All, Idx_Mol, Count_Mol, axis=1)\n",
    "\n",
    "    def EnzymaticReaction_Enz_MichaelisMenten_Unregulated(self):\n",
    "\n",
    "        # Debugging tool\n",
    "        # self.Debug_PrintNames(PUT_IDX_HERE)\n",
    "\n",
    "        Conc_Enz = SimF.CountToConc(self.Count_All[:, self.Idx_Enz_Enz_MichaelisMenten_Unregulated], self.Vol)\n",
    "        Conc_EnzSub = SimF.CountToConc(self.Count_All[:, self.Idx_EnzSub_Enz_MichaelisMenten_Unregulated], self.Vol)\n",
    "        Rate = SimF.Eqn_Enz_MichaelisMenten_Unregulated(Conc_Enz, Conc_EnzSub, self.Const_kcat_Enz_MichaelisMenten_Unregulated, self.Const_KM_Enz_MichaelisMenten_Unregulated)\n",
    "        Rate = self.ApplySimTimeResolution(Rate)\n",
    "        dConc_Mol_InStoichMatrix = SimF.GetDerivativeFromStoichiometryMatrix(self.Const_StoichMatrix_Enz_MichaelisMenten_Unregulated, Rate)\n",
    "        dCount_Mol_InStoichMatrix = SimF.ConcToCount(dConc_Mol_InStoichMatrix, state.Vol)\n",
    "        self.AddTodCount(self.Idx_Mol_InStoichMatrix_Enz_MichaelisMenten_Unregulated, dCount_Mol_InStoichMatrix)\n",
    "\n",
    "    def SimLoop_WithoutSpatialSimulation(self):\n",
    "        self.IncrementSimStep()\n",
    "        self.EnzymaticReaction_Enz_MichaelisMenten_Unregulated()\n",
    "        self.UpdateCounts()\n",
    "        #self.RestoreMoleculeCount()\n",
    "\n",
    "    def ApplySimTimeResolution(self, Rate):\n",
    "        return Rate / self.SimTimeResolutionPerSecond\n",
    "\n",
    "    def AddTodCount(self, Idx, Values):\n",
    "        dCountToAdd = np.zeros_like(self.dCount_All)\n",
    "        np.put_along_axis(dCountToAdd, Idx, Values, axis=1)\n",
    "        dCount_All_New = self.dCount_All + dCountToAdd\n",
    "        ZeroTest = dCount_All_New + self.Count_All\n",
    "        self.dCount_All = np.where(ZeroTest < 0, dCount_All_New - ZeroTest, dCount_All_New)\n",
    "\n",
    "    def UpdateCounts(self):\n",
    "        self.Count_All += self.dCount_All\n",
    "        #self.CleardCounts()\n",
    "\n",
    "    def CleardCounts(self):\n",
    "        self.dCount_All = np.zeros_like(self.dCount_All)\n",
    "\n",
    "    def RestoreMoleculeCount(self):\n",
    "        np.put_along_axis(self.Count_All, self.Idx_Restore_Pseudo.reshape(1, -1), 6.022141e+23 * self.Vol, axis=1)\n",
    "\n",
    "    def IncrementSimStep(self):\n",
    "        self.SimStep += 1\n",
    "\n",
    "    def ExportData(self, Time):\n",
    "        Data = np.asmatrix(np.zeros(2 + 73))\n",
    "        Data[:, 0:1] = Time\n",
    "        Data[:, 1:2] = self.Vol\n",
    "        Data[:, 2:75] = self.Count_All\n",
    "        return Data\n",
    "\n"
   ]
  },
  {
   "cell_type": "code",
   "execution_count": 4,
   "metadata": {},
   "outputs": [
    {
     "ename": "AttributeError",
     "evalue": "'FState' object has no attribute 'Idx_Enz_Enz_MichaelisMenten_Unregulated'",
     "output_type": "error",
     "traceback": [
      "\u001b[1;31m---------------------------------------------------------------------------\u001b[0m",
      "\u001b[1;31mAttributeError\u001b[0m                            Traceback (most recent call last)",
      "\u001b[1;32m~\\AppData\\Local\\Temp/ipykernel_7652/2997156807.py\u001b[0m in \u001b[0;36m<module>\u001b[1;34m\u001b[0m\n\u001b[0;32m      2\u001b[0m \u001b[0mstate\u001b[0m \u001b[1;33m=\u001b[0m \u001b[0mFState\u001b[0m\u001b[1;33m(\u001b[0m\u001b[1;33m)\u001b[0m\u001b[1;33m\u001b[0m\u001b[1;33m\u001b[0m\u001b[0m\n\u001b[0;32m      3\u001b[0m \u001b[0mstate\u001b[0m\u001b[1;33m.\u001b[0m\u001b[0mInitialize\u001b[0m\u001b[1;33m(\u001b[0m\u001b[1;33m)\u001b[0m\u001b[1;33m\u001b[0m\u001b[1;33m\u001b[0m\u001b[0m\n\u001b[1;32m----> 4\u001b[1;33m \u001b[0mConc_Enz\u001b[0m \u001b[1;33m=\u001b[0m \u001b[0mSimF\u001b[0m\u001b[1;33m.\u001b[0m\u001b[0mCountToConc\u001b[0m\u001b[1;33m(\u001b[0m\u001b[0mstate\u001b[0m\u001b[1;33m.\u001b[0m\u001b[0mCount_All\u001b[0m\u001b[1;33m[\u001b[0m\u001b[1;33m:\u001b[0m\u001b[1;33m,\u001b[0m \u001b[0mstate\u001b[0m\u001b[1;33m.\u001b[0m\u001b[0mIdx_Enz_Enz_MichaelisMenten_Unregulated\u001b[0m\u001b[1;33m]\u001b[0m\u001b[1;33m,\u001b[0m \u001b[0mstate\u001b[0m\u001b[1;33m.\u001b[0m\u001b[0mVol\u001b[0m\u001b[1;33m)\u001b[0m\u001b[1;33m\u001b[0m\u001b[1;33m\u001b[0m\u001b[0m\n\u001b[0m\u001b[0;32m      5\u001b[0m \u001b[0mConc_EnzSub\u001b[0m \u001b[1;33m=\u001b[0m \u001b[0mSimF\u001b[0m\u001b[1;33m.\u001b[0m\u001b[0mCountToConc\u001b[0m\u001b[1;33m(\u001b[0m\u001b[0mstate\u001b[0m\u001b[1;33m.\u001b[0m\u001b[0mCount_All\u001b[0m\u001b[1;33m[\u001b[0m\u001b[1;33m:\u001b[0m\u001b[1;33m,\u001b[0m \u001b[0mstate\u001b[0m\u001b[1;33m.\u001b[0m\u001b[0mIdx_EnzSub_Enz_MichaelisMenten_Unregulated\u001b[0m\u001b[1;33m]\u001b[0m\u001b[1;33m,\u001b[0m \u001b[0mstate\u001b[0m\u001b[1;33m.\u001b[0m\u001b[0mVol\u001b[0m\u001b[1;33m)\u001b[0m\u001b[1;33m\u001b[0m\u001b[1;33m\u001b[0m\u001b[0m\n\u001b[0;32m      6\u001b[0m \u001b[0mRate\u001b[0m \u001b[1;33m=\u001b[0m \u001b[0mSimF\u001b[0m\u001b[1;33m.\u001b[0m\u001b[0mEqn_Enz_MichaelisMenten_Unregulated\u001b[0m\u001b[1;33m(\u001b[0m\u001b[0mConc_Enz\u001b[0m\u001b[1;33m,\u001b[0m \u001b[0mConc_EnzSub\u001b[0m\u001b[1;33m,\u001b[0m \u001b[0mstate\u001b[0m\u001b[1;33m.\u001b[0m\u001b[0mConst_kcat_Enz_MichaelisMenten_Unregulated\u001b[0m\u001b[1;33m,\u001b[0m \u001b[0mstate\u001b[0m\u001b[1;33m.\u001b[0m\u001b[0mConst_KM_Enz_MichaelisMenten_Unregulated\u001b[0m\u001b[1;33m)\u001b[0m\u001b[1;33m\u001b[0m\u001b[1;33m\u001b[0m\u001b[0m\n",
      "\u001b[1;31mAttributeError\u001b[0m: 'FState' object has no attribute 'Idx_Enz_Enz_MichaelisMenten_Unregulated'"
     ]
    }
   ],
   "source": [
    "# manually define the input np.arrays\n",
    "state = FState()\n",
    "state.Initialize()\n",
    "Conc_Enz = SimF.CountToConc(state.Count_All[:, state.Idx_Enz_Enz_MichaelisMenten_Unregulated], state.Vol)\n",
    "Conc_EnzSub = SimF.CountToConc(state.Count_All[:, state.Idx_EnzSub_Enz_MichaelisMenten_Unregulated], state.Vol)\n",
    "Rate = SimF.Eqn_Enz_MichaelisMenten_Unregulated(Conc_Enz, Conc_EnzSub, state.Const_kcat_Enz_MichaelisMenten_Unregulated, state.Const_KM_Enz_MichaelisMenten_Unregulated)\n",
    "Rate = Rate / 100\n",
    "dConc_Mol_InStoichMatrix = SimF.GetDerivativeFromStoichiometryMatrix(state.Const_StoichMatrix_Enz_MichaelisMenten_Unregulated, Rate)\n",
    "dCount_Mol_InStoichMatrix = SimF.ConcToCount(dConc_Mol_InStoichMatrix, state.Vol)\n",
    "state.AddTodCount(state.Idx_Mol_InStoichMatrix_Enz_MichaelisMenten_Unregulated, dCount_Mol_InStoichMatrix)\n",
    "\n",
    "\n",
    "#state.SimLoop_WithoutSpatialSimulation()\n"
   ]
  },
  {
   "cell_type": "code",
   "execution_count": null,
   "metadata": {},
   "outputs": [],
   "source": [
    "class FState:\n",
    "    def __init__(self):\n",
    "        self.Vol = 0\n",
    "\n",
    "        # State Arrays\n",
    "        # Temporary legend attribute\n",
    "        self.Mol_Names = list()\n",
    "        self.Mol_Name2Idx = dict()\n",
    "        self.Legends = list()\n",
    "\n",
    "        self.Count_All = np.zeros([1, 3])\n",
    "        self.dCount_All = np.zeros([1, 3])\n",
    "\n",
    "        # Standard_Unregulated\n",
    "        self.Const_k_Reactant_Standard_Unregulated = None\n",
    "        self.Const_k_Product_Standard_Unregulated = None\n",
    "        self.Idx_Reactant_0_Standard_Unregulated = None\n",
    "        self.Idx_Product_0_Standard_Unregulated = None\n",
    "\n",
    "\n",
    "        self.Idx_Mol_InStoichMatrix_Standard_Unregulated = None\n",
    "        self.Const_StoichMatrix_Standard_Unregulated = None\n",
    "\n",
    "    def Initialize(self):\n",
    "        self.Vol = 1\n",
    "\n",
    "        # Standard_Unregulated\n",
    "        self.Const_k_Reactant_Standard_Unregulated = np.array([5.000000e+00, ])\n",
    "        self.Const_k_Product_Standard_Unregulated = np.array([0.000000e+00, ])\n",
    "        self.Idx_Reactant_0_Standard_Unregulated = np.array([1, ])\n",
    "        self.Idx_Product_0_Standard_Unregulated = np.array([2, ])\n",
    "\n",
    "        self.Idx_Mol_InStoichMatrix_Standard_Unregulated = np.asmatrix([1, 2, ])\n",
    "        self.Const_StoichMatrix_Standard_Unregulated = np.asmatrix([[-1, 1, ], ])\n",
    "\n",
    "        self.Mol_Names = ['Pseudo', 'interDepFirstOrderTC1_A', 'interDepFirstOrderTC1_B', ]\n",
    "        self.Mol_Name2Idx = {'Pseudo' : np.array([0]), 'interDepFirstOrderTC1_A' : np.array([1]), 'interDepFirstOrderTC1_B' : np.array([2]), }\n",
    "        self.Legends = ['SimStep', 'Vol', 'Pseudo', 'interDepFirstOrderTC1_A', 'interDepFirstOrderTC1_B', ]\n",
    "\n",
    "        Idx_Mol = np.array([0, 1, 2, ], ndmin=2)\n",
    "        Count_Mol = np.array([6.022141e+23, 9.033212e+20, 0.000000e+00, ])\n",
    "        MolarityFactor_Mol = np.array([1.000000e+00, 1.000000e+00, 1.000000e+00, ])\n",
    "        MolarityFactor_Mol = np.where(MolarityFactor_Mol == 1, self.Vol, 1)\n",
    "        Count_Mol *= MolarityFactor_Mol\n",
    "        np.put_along_axis(self.Count_All, Idx_Mol, Count_Mol, axis=1)\n",
    "\n",
    "\n",
    "    def StandardReaction_Standard_Unregulated(self):\n",
    "\n",
    "        # Debugging tool\n",
    "        # self.Debug_PrintNames(PUT_IDX_HERE)\n",
    "\n",
    "        Conc_Reactant_0 = SimF.CountToConc(self.State.Count_All[:, self.State.Idx_Reactant_0_Standard_Unregulated], self.State.Vol)\n",
    "        Conc_Product_0 = SimF.CountToConc(self.State.Count_All[:, self.State.Idx_Product_0_Standard_Unregulated], self.State.Vol)\n",
    "        Rate_Reactant = SimF.Eqn_Standard_Unregulated_1(Conc_Reactant_0, self.State.Const_k_Reactant_Standard_Unregulated)\n",
    "        Rate_Reactant = self.ApplySimTimeResolution(Rate_Reactant)\n",
    "        Rate_Reactant = SimF.CheckRateAndConc_1(Rate_Reactant, Conc_Reactant_0)\n",
    "        Rate_Product = SimF.Eqn_Standard_Unregulated_1(Conc_Product_0, self.State.Const_k_Product_Standard_Unregulated)\n",
    "        Rate_Product = self.ApplySimTimeResolution(Rate_Product)\n",
    "        Rate_Product = SimF.CheckRateAndConc_1(Rate_Product, Conc_Product_0)\n",
    "        Rate = Rate_Reactant - Rate_Product\n",
    "        dConc_Mol_InStoichMatrix = SimF.GetDerivativeFromStoichiometryMatrix(self.State.Const_StoichMatrix_Standard_Unregulated, Rate)\n",
    "        dCount_Mol_InStoichMatrix = SimF.ConcToCount(dConc_Mol_InStoichMatrix, self.State.Vol)\n",
    "        self.AddTodCount(self.State.Idx_Mol_InStoichMatrix_Standard_Unregulated, dCount_Mol_InStoichMatrix)"
   ]
  },
  {
   "cell_type": "markdown",
   "metadata": {},
   "source": [
    "## Barebones first order"
   ]
  },
  {
   "cell_type": "code",
   "execution_count": null,
   "metadata": {},
   "outputs": [
    {
     "data": {
      "text/plain": [
       "0.007500000539675185"
      ]
     },
     "execution_count": 25,
     "metadata": {},
     "output_type": "execute_result"
    }
   ],
   "source": [
    "Conc = SimF.CountToConc(9.033212e+20, state.Vol)\n",
    "Rate = SimF.Eqn_Standard_Unregulated_1(Conc, k=5)\n",
    "Rate"
   ]
  },
  {
   "cell_type": "code",
   "execution_count": null,
   "metadata": {},
   "outputs": [],
   "source": [
    "rxn = SimF.ReactionEquations(\n",
    "    arr1DConc=np.array([SimF.CountToConc(9.033212e+20, 1)]),\n",
    "    Rate = 0,\n",
    "    dReactionRateCoeff=5.0,\n",
    "    arr1DdHillCoeff=np.array([1]),\n",
    "    arr4DAllostery=np.array([[0],[0],[1],[1]]),\n",
    "    arr1DdKMichaelis=np.array([1])\n",
    ")"
   ]
  },
  {
   "cell_type": "code",
   "execution_count": null,
   "metadata": {},
   "outputs": [
    {
     "data": {
      "text/plain": [
       "0.007500000539675185"
      ]
     },
     "execution_count": 27,
     "metadata": {},
     "output_type": "execute_result"
    }
   ],
   "source": [
    "rxn.MassActionReactionRate()"
   ]
  },
  {
   "cell_type": "code",
   "execution_count": null,
   "metadata": {},
   "outputs": [
    {
     "data": {
      "text/plain": [
       "True"
      ]
     },
     "execution_count": 28,
     "metadata": {},
     "output_type": "execute_result"
    }
   ],
   "source": [
    "round(Rate, 10) == round(rxn.MassActionReactionRate(), 10)"
   ]
  },
  {
   "cell_type": "markdown",
   "metadata": {},
   "source": [
    "# Barebones Second Order"
   ]
  },
  {
   "cell_type": "code",
   "execution_count": null,
   "metadata": {},
   "outputs": [
    {
     "data": {
      "text/plain": [
       "7.827769654910118e-06"
      ]
     },
     "execution_count": 12,
     "metadata": {},
     "output_type": "execute_result"
    }
   ],
   "source": [
    "Conc = SimF.CountToConc(np.array([4.598913e+21, 1.234567e+20]), state.Vol)\n",
    "Rate = SimF.Eqn_Standard_Unregulated_2(Conc[0], Conc[1], k=5)\n",
    "Rate"
   ]
  },
  {
   "cell_type": "code",
   "execution_count": null,
   "metadata": {},
   "outputs": [],
   "source": [
    "rxn = SimF.ReactionEquations(\n",
    "    arr1DConc=np.array([SimF.CountToConc(np.array([4.598913e+21, 1.234567e+20]), 1)]),\n",
    "    Rate = 0,\n",
    "    dReactionRateCoeff=5.0,\n",
    "    arr1DdHillCoeff=np.array([1,1]),\n",
    "    arr4DAllostery=np.array([[0,0],[0,0],[1,1],[1,1]]),\n",
    "    arr1DdKMichaelis=np.array([1,1])\n",
    ")"
   ]
  },
  {
   "cell_type": "code",
   "execution_count": null,
   "metadata": {},
   "outputs": [
    {
     "data": {
      "text/plain": [
       "7.827769654910118e-06"
      ]
     },
     "execution_count": 14,
     "metadata": {},
     "output_type": "execute_result"
    }
   ],
   "source": [
    "rxn.MassActionReactionRate()"
   ]
  },
  {
   "cell_type": "code",
   "execution_count": null,
   "metadata": {},
   "outputs": [],
   "source": [
    "round(Rate, 10) == round(rxn.MassActionReactionRate(), 10)"
   ]
  },
  {
   "cell_type": "markdown",
   "metadata": {},
   "source": [
    "## Barebones Michaelis Menten"
   ]
  },
  {
   "cell_type": "code",
   "execution_count": null,
   "metadata": {},
   "outputs": [
    {
     "data": {
      "text/plain": [
       "0.021504592686173107"
      ]
     },
     "execution_count": 15,
     "metadata": {},
     "output_type": "execute_result"
    }
   ],
   "source": [
    "Conc = SimF.CountToConc(np.array([5.554784e+21, 2.221942e+24]), state.Vol)\n",
    "# --------------------------------------------- conc enzyme, conc_subst, kcat, km)\n",
    "Rate = SimF.Eqn_Enz_MichaelisMenten_Unregulated(Conc[0], Conc[1], kcat=5, KM = 4.2233)\n",
    "Rate"
   ]
  },
  {
   "cell_type": "code",
   "execution_count": null,
   "metadata": {},
   "outputs": [],
   "source": [
    "rxn = SimF.ReactionEquations(\n",
    "    arr1DConc=SimF.CountToConc(np.array([5.554784e+21, 2.221942e+24]), 1),\n",
    "    Rate = 1,\n",
    "    dReactionRateCoeff=5.0,\n",
    "    arr1DdHillCoeff=np.array([1, 1]),\n",
    "    arr4DAllostery=np.array([\n",
    "        [0,0], # substrate target index\n",
    "        [0,0], # regulatory element concentration\n",
    "        [1,1], # reg element dissociation constant\n",
    "        [1,1]  # reg type\n",
    "    ]),\n",
    "    arr1DdKMichaelis=np.array([0, 4.2233])\n",
    ")"
   ]
  },
  {
   "cell_type": "code",
   "execution_count": null,
   "metadata": {},
   "outputs": [
    {
     "data": {
      "text/plain": [
       "1.0"
      ]
     },
     "execution_count": 18,
     "metadata": {},
     "output_type": "execute_result"
    }
   ],
   "source": [
    "rxn.arr1DConc[0] ** rxn.arr1DdHillCoeff[0] / (\n",
    "    rxn.arr1DConc[0] ** rxn.arr1DdHillCoeff[0] + \n",
    "    rxn.arr1DdKMichaelis[0] ** rxn.arr1DdHillCoeff[0]\n",
    ")\n"
   ]
  },
  {
   "cell_type": "code",
   "execution_count": null,
   "metadata": {},
   "outputs": [
    {
     "data": {
      "text/plain": [
       "0.4662780304445463"
      ]
     },
     "execution_count": 19,
     "metadata": {},
     "output_type": "execute_result"
    }
   ],
   "source": [
    "rxn.arr1DConc[1] ** rxn.arr1DdHillCoeff[1] / (\n",
    "    rxn.arr1DConc[1] ** rxn.arr1DdHillCoeff[1] + \n",
    "    rxn.arr1DdKMichaelis[1] ** rxn.arr1DdHillCoeff[1]\n",
    ")"
   ]
  },
  {
   "cell_type": "code",
   "execution_count": null,
   "metadata": {},
   "outputs": [
    {
     "data": {
      "text/plain": [
       "0.021504592686173107"
      ]
     },
     "execution_count": 21,
     "metadata": {},
     "output_type": "execute_result"
    }
   ],
   "source": [
    "rxn.MichaelisMentenReaction()"
   ]
  },
  {
   "cell_type": "code",
   "execution_count": null,
   "metadata": {},
   "outputs": [],
   "source": [
    "round(Rate, 10) == round(rxn.MichaelisMentenReaction(), 10)"
   ]
  },
  {
   "cell_type": "markdown",
   "metadata": {},
   "source": [
    "# Allostery"
   ]
  },
  {
   "cell_type": "code",
   "execution_count": null,
   "metadata": {},
   "outputs": [],
   "source": []
  },
  {
   "cell_type": "code",
   "execution_count": null,
   "metadata": {},
   "outputs": [],
   "source": []
  },
  {
   "cell_type": "code",
   "execution_count": null,
   "metadata": {},
   "outputs": [],
   "source": []
  },
  {
   "cell_type": "code",
   "execution_count": null,
   "metadata": {},
   "outputs": [],
   "source": []
  },
  {
   "cell_type": "code",
   "execution_count": null,
   "metadata": {},
   "outputs": [],
   "source": []
  },
  {
   "cell_type": "code",
   "execution_count": null,
   "metadata": {},
   "outputs": [],
   "source": []
  },
  {
   "cell_type": "code",
   "execution_count": null,
   "metadata": {},
   "outputs": [],
   "source": []
  },
  {
   "cell_type": "code",
   "execution_count": null,
   "metadata": {},
   "outputs": [],
   "source": []
  },
  {
   "cell_type": "code",
   "execution_count": null,
   "metadata": {},
   "outputs": [],
   "source": []
  }
 ],
 "metadata": {
  "interpreter": {
   "hash": "c059f2b875842476053c6b0cc88b8428d3db2b25f1539d42eb93fc2e108d9216"
  },
  "kernelspec": {
   "display_name": "Python 3.9.7 ('base')",
   "language": "python",
   "name": "python3"
  },
  "language_info": {
   "codemirror_mode": {
    "name": "ipython",
    "version": 3
   },
   "file_extension": ".py",
   "mimetype": "text/x-python",
   "name": "python",
   "nbconvert_exporter": "python",
   "pygments_lexer": "ipython3",
   "version": "3.9.7"
  },
  "orig_nbformat": 4
 },
 "nbformat": 4,
 "nbformat_minor": 2
}
